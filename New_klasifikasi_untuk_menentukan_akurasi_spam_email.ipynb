{
  "nbformat": 4,
  "nbformat_minor": 0,
  "metadata": {
    "colab": {
      "name": "New klasifikasi untuk menentukan akurasi spam email.ipynb",
      "provenance": [],
      "collapsed_sections": []
    },
    "kernelspec": {
      "name": "python3",
      "display_name": "Python 3"
    }
  },
  "cells": [
    {
      "cell_type": "code",
      "metadata": {
        "colab": {
          "base_uri": "https://localhost:8080/",
          "height": 17
        },
        "id": "xsrDP18kVMG5",
        "outputId": "95016623-a571-4415-f7af-6ed9a1819886"
      },
      "source": [
        "import numpy as np # linear algebra\r\n",
        "import pandas as pd # data processing, CSV file I/O (e.g. pd.read_csv)\r\n",
        "import matplotlib.pyplot as plt\r\n",
        "%matplotlib inline\r\n",
        "import seaborn as sns\r\n",
        " \r\n",
        "import plotly.offline as py\r\n",
        "from plotly.offline import init_notebook_mode,iplot\r\n",
        "init_notebook_mode(connected=True) \r\n",
        "from plotly import tools\r\n",
        "import plotly.figure_factory as ff\r\n",
        " \r\n",
        "import nltk\r\n",
        "import re\r\n",
        "import string\r\n",
        "import os"
      ],
      "execution_count": 94,
      "outputs": [
        {
          "output_type": "display_data",
          "data": {
            "text/html": [
              "        <script type=\"text/javascript\">\n",
              "        window.PlotlyConfig = {MathJaxConfig: 'local'};\n",
              "        if (window.MathJax) {MathJax.Hub.Config({SVG: {font: \"STIX-Web\"}});}\n",
              "        if (typeof require !== 'undefined') {\n",
              "        require.undef(\"plotly\");\n",
              "        requirejs.config({\n",
              "            paths: {\n",
              "                'plotly': ['https://cdn.plot.ly/plotly-latest.min']\n",
              "            }\n",
              "        });\n",
              "        require(['plotly'], function(Plotly) {\n",
              "            window._Plotly = Plotly;\n",
              "        });\n",
              "        }\n",
              "        </script>\n",
              "        "
            ]
          },
          "metadata": {
            "tags": []
          }
        }
      ]
    },
    {
      "cell_type": "code",
      "metadata": {
        "colab": {
          "base_uri": "https://localhost:8080/",
          "height": 363
        },
        "id": "_662uHZhVaQC",
        "outputId": "b1062e89-24fd-4860-d2e9-34e5a77fdb48"
      },
      "source": [
        "data = pd.read_csv(\"spam_ham_dataset.csv\")\r\n",
        "data.head(11)"
      ],
      "execution_count": 95,
      "outputs": [
        {
          "output_type": "execute_result",
          "data": {
            "text/html": [
              "<div>\n",
              "<style scoped>\n",
              "    .dataframe tbody tr th:only-of-type {\n",
              "        vertical-align: middle;\n",
              "    }\n",
              "\n",
              "    .dataframe tbody tr th {\n",
              "        vertical-align: top;\n",
              "    }\n",
              "\n",
              "    .dataframe thead th {\n",
              "        text-align: right;\n",
              "    }\n",
              "</style>\n",
              "<table border=\"1\" class=\"dataframe\">\n",
              "  <thead>\n",
              "    <tr style=\"text-align: right;\">\n",
              "      <th></th>\n",
              "      <th>Unnamed: 0</th>\n",
              "      <th>label</th>\n",
              "      <th>text</th>\n",
              "      <th>label_num</th>\n",
              "    </tr>\n",
              "  </thead>\n",
              "  <tbody>\n",
              "    <tr>\n",
              "      <th>0</th>\n",
              "      <td>605</td>\n",
              "      <td>ham</td>\n",
              "      <td>Subject: enron methanol ; meter # : 988291\\r\\n...</td>\n",
              "      <td>0</td>\n",
              "    </tr>\n",
              "    <tr>\n",
              "      <th>1</th>\n",
              "      <td>2349</td>\n",
              "      <td>ham</td>\n",
              "      <td>Subject: hpl nom for january 9 , 2001\\r\\n( see...</td>\n",
              "      <td>0</td>\n",
              "    </tr>\n",
              "    <tr>\n",
              "      <th>2</th>\n",
              "      <td>3624</td>\n",
              "      <td>ham</td>\n",
              "      <td>Subject: neon retreat\\r\\nho ho ho , we ' re ar...</td>\n",
              "      <td>0</td>\n",
              "    </tr>\n",
              "    <tr>\n",
              "      <th>3</th>\n",
              "      <td>4685</td>\n",
              "      <td>spam</td>\n",
              "      <td>Subject: photoshop , windows , office . cheap ...</td>\n",
              "      <td>1</td>\n",
              "    </tr>\n",
              "    <tr>\n",
              "      <th>4</th>\n",
              "      <td>2030</td>\n",
              "      <td>ham</td>\n",
              "      <td>Subject: re : indian springs\\r\\nthis deal is t...</td>\n",
              "      <td>0</td>\n",
              "    </tr>\n",
              "    <tr>\n",
              "      <th>5</th>\n",
              "      <td>2949</td>\n",
              "      <td>ham</td>\n",
              "      <td>Subject: ehronline web address change\\r\\nthis ...</td>\n",
              "      <td>0</td>\n",
              "    </tr>\n",
              "    <tr>\n",
              "      <th>6</th>\n",
              "      <td>2793</td>\n",
              "      <td>ham</td>\n",
              "      <td>Subject: spring savings certificate - take 30 ...</td>\n",
              "      <td>0</td>\n",
              "    </tr>\n",
              "    <tr>\n",
              "      <th>7</th>\n",
              "      <td>4185</td>\n",
              "      <td>spam</td>\n",
              "      <td>Subject: looking for medication ? we ` re the ...</td>\n",
              "      <td>1</td>\n",
              "    </tr>\n",
              "    <tr>\n",
              "      <th>8</th>\n",
              "      <td>2641</td>\n",
              "      <td>ham</td>\n",
              "      <td>Subject: noms / actual flow for 2 / 26\\r\\nwe a...</td>\n",
              "      <td>0</td>\n",
              "    </tr>\n",
              "    <tr>\n",
              "      <th>9</th>\n",
              "      <td>1870</td>\n",
              "      <td>ham</td>\n",
              "      <td>Subject: nominations for oct . 21 - 23 , 2000\\...</td>\n",
              "      <td>0</td>\n",
              "    </tr>\n",
              "    <tr>\n",
              "      <th>10</th>\n",
              "      <td>4922</td>\n",
              "      <td>spam</td>\n",
              "      <td>Subject: vocable % rnd - word asceticism\\r\\nvc...</td>\n",
              "      <td>1</td>\n",
              "    </tr>\n",
              "  </tbody>\n",
              "</table>\n",
              "</div>"
            ],
            "text/plain": [
              "    Unnamed: 0  ... label_num\n",
              "0          605  ...         0\n",
              "1         2349  ...         0\n",
              "2         3624  ...         0\n",
              "3         4685  ...         1\n",
              "4         2030  ...         0\n",
              "5         2949  ...         0\n",
              "6         2793  ...         0\n",
              "7         4185  ...         1\n",
              "8         2641  ...         0\n",
              "9         1870  ...         0\n",
              "10        4922  ...         1\n",
              "\n",
              "[11 rows x 4 columns]"
            ]
          },
          "metadata": {
            "tags": []
          },
          "execution_count": 95
        }
      ]
    },
    {
      "cell_type": "code",
      "metadata": {
        "colab": {
          "base_uri": "https://localhost:8080/",
          "height": 298
        },
        "id": "2_srnLneVgXr",
        "outputId": "7c92018c-711d-490d-ad9c-bd63d1e34b15"
      },
      "source": [
        "count_Class=pd.value_counts(data[\"label\"], sort= True)\r\n",
        "count_Class.plot(kind= 'bar', color= [\"blue\", \"orange\"])\r\n",
        "plt.title('Bar chart')\r\n",
        "plt.show()"
      ],
      "execution_count": 96,
      "outputs": [
        {
          "output_type": "display_data",
          "data": {
            "image/png": "[encoded data removed]",
            "text/plain": [
              "<Figure size 432x288 with 1 Axes>"
            ]
          },
          "metadata": {
            "tags": [],
            "needs_background": "light"
          }
        }
      ]
    },
    {
      "cell_type": "code",
      "metadata": {
        "colab": {
          "base_uri": "https://localhost:8080/",
          "height": 263
        },
        "id": "G3NEZD1oVkpc",
        "outputId": "33140ecc-7df6-4d8e-c155-f6debd4ba750"
      },
      "source": [
        "count_Class.plot(kind = 'pie',  autopct='%1.0f%%')\r\n",
        "plt.title('Pie chart')\r\n",
        "plt.ylabel('')\r\n",
        "plt.show()"
      ],
      "execution_count": 97,
      "outputs": [
        {
          "output_type": "display_data",
          "data": {
            "image/png": "[encoded data removed]",
            "text/plain": [
              "<Figure size 432x288 with 1 Axes>"
            ]
          },
          "metadata": {
            "tags": []
          }
        }
      ]
    },
    {
      "cell_type": "code",
      "metadata": {
        "colab": {
          "base_uri": "https://localhost:8080/",
          "height": 363
        },
        "id": "UKMgtPV-VoKh",
        "outputId": "0dd183dc-30e4-4483-e04d-661320dd14d5"
      },
      "source": [
        "data.drop(['Unnamed: 0', 'label_num'],axis=1,inplace=True)\r\n",
        "data.head(11)"
      ],
      "execution_count": 98,
      "outputs": [
        {
          "output_type": "execute_result",
          "data": {
            "text/html": [
              "<div>\n",
              "<style scoped>\n",
              "    .dataframe tbody tr th:only-of-type {\n",
              "        vertical-align: middle;\n",
              "    }\n",
              "\n",
              "    .dataframe tbody tr th {\n",
              "        vertical-align: top;\n",
              "    }\n",
              "\n",
              "    .dataframe thead th {\n",
              "        text-align: right;\n",
              "    }\n",
              "</style>\n",
              "<table border=\"1\" class=\"dataframe\">\n",
              "  <thead>\n",
              "    <tr style=\"text-align: right;\">\n",
              "      <th></th>\n",
              "      <th>label</th>\n",
              "      <th>text</th>\n",
              "    </tr>\n",
              "  </thead>\n",
              "  <tbody>\n",
              "    <tr>\n",
              "      <th>0</th>\n",
              "      <td>ham</td>\n",
              "      <td>Subject: enron methanol ; meter # : 988291\\r\\n...</td>\n",
              "    </tr>\n",
              "    <tr>\n",
              "      <th>1</th>\n",
              "      <td>ham</td>\n",
              "      <td>Subject: hpl nom for january 9 , 2001\\r\\n( see...</td>\n",
              "    </tr>\n",
              "    <tr>\n",
              "      <th>2</th>\n",
              "      <td>ham</td>\n",
              "      <td>Subject: neon retreat\\r\\nho ho ho , we ' re ar...</td>\n",
              "    </tr>\n",
              "    <tr>\n",
              "      <th>3</th>\n",
              "      <td>spam</td>\n",
              "      <td>Subject: photoshop , windows , office . cheap ...</td>\n",
              "    </tr>\n",
              "    <tr>\n",
              "      <th>4</th>\n",
              "      <td>ham</td>\n",
              "      <td>Subject: re : indian springs\\r\\nthis deal is t...</td>\n",
              "    </tr>\n",
              "    <tr>\n",
              "      <th>5</th>\n",
              "      <td>ham</td>\n",
              "      <td>Subject: ehronline web address change\\r\\nthis ...</td>\n",
              "    </tr>\n",
              "    <tr>\n",
              "      <th>6</th>\n",
              "      <td>ham</td>\n",
              "      <td>Subject: spring savings certificate - take 30 ...</td>\n",
              "    </tr>\n",
              "    <tr>\n",
              "      <th>7</th>\n",
              "      <td>spam</td>\n",
              "      <td>Subject: looking for medication ? we ` re the ...</td>\n",
              "    </tr>\n",
              "    <tr>\n",
              "      <th>8</th>\n",
              "      <td>ham</td>\n",
              "      <td>Subject: noms / actual flow for 2 / 26\\r\\nwe a...</td>\n",
              "    </tr>\n",
              "    <tr>\n",
              "      <th>9</th>\n",
              "      <td>ham</td>\n",
              "      <td>Subject: nominations for oct . 21 - 23 , 2000\\...</td>\n",
              "    </tr>\n",
              "    <tr>\n",
              "      <th>10</th>\n",
              "      <td>spam</td>\n",
              "      <td>Subject: vocable % rnd - word asceticism\\r\\nvc...</td>\n",
              "    </tr>\n",
              "  </tbody>\n",
              "</table>\n",
              "</div>"
            ],
            "text/plain": [
              "   label                                               text\n",
              "0    ham  Subject: enron methanol ; meter # : 988291\\r\\n...\n",
              "1    ham  Subject: hpl nom for january 9 , 2001\\r\\n( see...\n",
              "2    ham  Subject: neon retreat\\r\\nho ho ho , we ' re ar...\n",
              "3   spam  Subject: photoshop , windows , office . cheap ...\n",
              "4    ham  Subject: re : indian springs\\r\\nthis deal is t...\n",
              "5    ham  Subject: ehronline web address change\\r\\nthis ...\n",
              "6    ham  Subject: spring savings certificate - take 30 ...\n",
              "7   spam  Subject: looking for medication ? we ` re the ...\n",
              "8    ham  Subject: noms / actual flow for 2 / 26\\r\\nwe a...\n",
              "9    ham  Subject: nominations for oct . 21 - 23 , 2000\\...\n",
              "10  spam  Subject: vocable % rnd - word asceticism\\r\\nvc..."
            ]
          },
          "metadata": {
            "tags": []
          },
          "execution_count": 98
        }
      ]
    },
    {
      "cell_type": "code",
      "metadata": {
        "colab": {
          "base_uri": "https://localhost:8080/"
        },
        "id": "HKHGcbS4Vuzm",
        "outputId": "00c44f7e-c0e5-4186-b43d-acb43198c655"
      },
      "source": [
        "dir(string)"
      ],
      "execution_count": 99,
      "outputs": [
        {
          "output_type": "execute_result",
          "data": {
            "text/plain": [
              "['Formatter',\n",
              " 'Template',\n",
              " '_ChainMap',\n",
              " '_TemplateMetaclass',\n",
              " '__all__',\n",
              " '__builtins__',\n",
              " '__cached__',\n",
              " '__doc__',\n",
              " '__file__',\n",
              " '__loader__',\n",
              " '__name__',\n",
              " '__package__',\n",
              " '__spec__',\n",
              " '_re',\n",
              " '_string',\n",
              " 'ascii_letters',\n",
              " 'ascii_lowercase',\n",
              " 'ascii_uppercase',\n",
              " 'capwords',\n",
              " 'digits',\n",
              " 'hexdigits',\n",
              " 'octdigits',\n",
              " 'printable',\n",
              " 'punctuation',\n",
              " 'whitespace']"
            ]
          },
          "metadata": {
            "tags": []
          },
          "execution_count": 99
        }
      ]
    },
    {
      "cell_type": "code",
      "metadata": {
        "colab": {
          "base_uri": "https://localhost:8080/",
          "height": 35
        },
        "id": "tVRl6ooxVzh9",
        "outputId": "2093bfc2-0f1b-43ad-c9b5-d41102fb91c9"
      },
      "source": [
        "string.punctuation"
      ],
      "execution_count": 100,
      "outputs": [
        {
          "output_type": "execute_result",
          "data": {
            "application/vnd.google.colaboratory.intrinsic+json": {
              "type": "string"
            },
            "text/plain": [
              "'!\"#$%&\\'()*+,-./:;<=>?@[\\\\]^_`{|}~'"
            ]
          },
          "metadata": {
            "tags": []
          },
          "execution_count": 100
        }
      ]
    },
    {
      "cell_type": "code",
      "metadata": {
        "colab": {
          "base_uri": "https://localhost:8080/",
          "height": 191
        },
        "id": "T7T2TOJZV6u2",
        "outputId": "ad64a211-a3ab-47fa-acce-914226bef9d7"
      },
      "source": [
        "def remove_punctuation(text):\r\n",
        "    remove_punc=''.join([char for char in text if char not in string.punctuation])\r\n",
        "    return remove_punc\r\n",
        "data['remove_punc']=data['text'].apply(lambda row : remove_punctuation(row))\r\n",
        "data.head()"
      ],
      "execution_count": 101,
      "outputs": [
        {
          "output_type": "execute_result",
          "data": {
            "text/html": [
              "<div>\n",
              "<style scoped>\n",
              "    .dataframe tbody tr th:only-of-type {\n",
              "        vertical-align: middle;\n",
              "    }\n",
              "\n",
              "    .dataframe tbody tr th {\n",
              "        vertical-align: top;\n",
              "    }\n",
              "\n",
              "    .dataframe thead th {\n",
              "        text-align: right;\n",
              "    }\n",
              "</style>\n",
              "<table border=\"1\" class=\"dataframe\">\n",
              "  <thead>\n",
              "    <tr style=\"text-align: right;\">\n",
              "      <th></th>\n",
              "      <th>label</th>\n",
              "      <th>text</th>\n",
              "      <th>remove_punc</th>\n",
              "    </tr>\n",
              "  </thead>\n",
              "  <tbody>\n",
              "    <tr>\n",
              "      <th>0</th>\n",
              "      <td>ham</td>\n",
              "      <td>Subject: enron methanol ; meter # : 988291\\r\\n...</td>\n",
              "      <td>Subject enron methanol  meter   988291\\r\\nthis...</td>\n",
              "    </tr>\n",
              "    <tr>\n",
              "      <th>1</th>\n",
              "      <td>ham</td>\n",
              "      <td>Subject: hpl nom for january 9 , 2001\\r\\n( see...</td>\n",
              "      <td>Subject hpl nom for january 9  2001\\r\\n see at...</td>\n",
              "    </tr>\n",
              "    <tr>\n",
              "      <th>2</th>\n",
              "      <td>ham</td>\n",
              "      <td>Subject: neon retreat\\r\\nho ho ho , we ' re ar...</td>\n",
              "      <td>Subject neon retreat\\r\\nho ho ho  we  re aroun...</td>\n",
              "    </tr>\n",
              "    <tr>\n",
              "      <th>3</th>\n",
              "      <td>spam</td>\n",
              "      <td>Subject: photoshop , windows , office . cheap ...</td>\n",
              "      <td>Subject photoshop  windows  office  cheap  mai...</td>\n",
              "    </tr>\n",
              "    <tr>\n",
              "      <th>4</th>\n",
              "      <td>ham</td>\n",
              "      <td>Subject: re : indian springs\\r\\nthis deal is t...</td>\n",
              "      <td>Subject re  indian springs\\r\\nthis deal is to ...</td>\n",
              "    </tr>\n",
              "  </tbody>\n",
              "</table>\n",
              "</div>"
            ],
            "text/plain": [
              "  label  ...                                        remove_punc\n",
              "0   ham  ...  Subject enron methanol  meter   988291\\r\\nthis...\n",
              "1   ham  ...  Subject hpl nom for january 9  2001\\r\\n see at...\n",
              "2   ham  ...  Subject neon retreat\\r\\nho ho ho  we  re aroun...\n",
              "3  spam  ...  Subject photoshop  windows  office  cheap  mai...\n",
              "4   ham  ...  Subject re  indian springs\\r\\nthis deal is to ...\n",
              "\n",
              "[5 rows x 3 columns]"
            ]
          },
          "metadata": {
            "tags": []
          },
          "execution_count": 101
        }
      ]
    },
    {
      "cell_type": "code",
      "metadata": {
        "colab": {
          "base_uri": "https://localhost:8080/",
          "height": 191
        },
        "id": "sYdz1t4rWAwP",
        "outputId": "1e2184c4-e792-4727-cf68-ba3da4dad63c"
      },
      "source": [
        "def tokenize(text):\r\n",
        "    tokens=re.split('\\W+',text)\r\n",
        "    return tokens \r\n",
        "data['tokenized_text']=data['remove_punc'].apply(lambda row : tokenize(row.lower()))\r\n",
        "data.head()"
      ],
      "execution_count": 102,
      "outputs": [
        {
          "output_type": "execute_result",
          "data": {
            "text/html": [
              "<div>\n",
              "<style scoped>\n",
              "    .dataframe tbody tr th:only-of-type {\n",
              "        vertical-align: middle;\n",
              "    }\n",
              "\n",
              "    .dataframe tbody tr th {\n",
              "        vertical-align: top;\n",
              "    }\n",
              "\n",
              "    .dataframe thead th {\n",
              "        text-align: right;\n",
              "    }\n",
              "</style>\n",
              "<table border=\"1\" class=\"dataframe\">\n",
              "  <thead>\n",
              "    <tr style=\"text-align: right;\">\n",
              "      <th></th>\n",
              "      <th>label</th>\n",
              "      <th>text</th>\n",
              "      <th>remove_punc</th>\n",
              "      <th>tokenized_text</th>\n",
              "    </tr>\n",
              "  </thead>\n",
              "  <tbody>\n",
              "    <tr>\n",
              "      <th>0</th>\n",
              "      <td>ham</td>\n",
              "      <td>Subject: enron methanol ; meter # : 988291\\r\\n...</td>\n",
              "      <td>Subject enron methanol  meter   988291\\r\\nthis...</td>\n",
              "      <td>[subject, enron, methanol, meter, 988291, this...</td>\n",
              "    </tr>\n",
              "    <tr>\n",
              "      <th>1</th>\n",
              "      <td>ham</td>\n",
              "      <td>Subject: hpl nom for january 9 , 2001\\r\\n( see...</td>\n",
              "      <td>Subject hpl nom for january 9  2001\\r\\n see at...</td>\n",
              "      <td>[subject, hpl, nom, for, january, 9, 2001, see...</td>\n",
              "    </tr>\n",
              "    <tr>\n",
              "      <th>2</th>\n",
              "      <td>ham</td>\n",
              "      <td>Subject: neon retreat\\r\\nho ho ho , we ' re ar...</td>\n",
              "      <td>Subject neon retreat\\r\\nho ho ho  we  re aroun...</td>\n",
              "      <td>[subject, neon, retreat, ho, ho, ho, we, re, a...</td>\n",
              "    </tr>\n",
              "    <tr>\n",
              "      <th>3</th>\n",
              "      <td>spam</td>\n",
              "      <td>Subject: photoshop , windows , office . cheap ...</td>\n",
              "      <td>Subject photoshop  windows  office  cheap  mai...</td>\n",
              "      <td>[subject, photoshop, windows, office, cheap, m...</td>\n",
              "    </tr>\n",
              "    <tr>\n",
              "      <th>4</th>\n",
              "      <td>ham</td>\n",
              "      <td>Subject: re : indian springs\\r\\nthis deal is t...</td>\n",
              "      <td>Subject re  indian springs\\r\\nthis deal is to ...</td>\n",
              "      <td>[subject, re, indian, springs, this, deal, is,...</td>\n",
              "    </tr>\n",
              "  </tbody>\n",
              "</table>\n",
              "</div>"
            ],
            "text/plain": [
              "  label  ...                                     tokenized_text\n",
              "0   ham  ...  [subject, enron, methanol, meter, 988291, this...\n",
              "1   ham  ...  [subject, hpl, nom, for, january, 9, 2001, see...\n",
              "2   ham  ...  [subject, neon, retreat, ho, ho, ho, we, re, a...\n",
              "3  spam  ...  [subject, photoshop, windows, office, cheap, m...\n",
              "4   ham  ...  [subject, re, indian, springs, this, deal, is,...\n",
              "\n",
              "[5 rows x 4 columns]"
            ]
          },
          "metadata": {
            "tags": []
          },
          "execution_count": 102
        }
      ]
    },
    {
      "cell_type": "code",
      "metadata": {
        "colab": {
          "base_uri": "https://localhost:8080/"
        },
        "id": "bShRg1liWHtf",
        "outputId": "e95deef5-6bf9-48c8-9bff-9d13dccd0e29"
      },
      "source": [
        "import nltk\r\n",
        "nltk.download('stopwords')\r\n",
        "stopwords=nltk.corpus.stopwords.words('english')\r\n",
        "#stopwords[:5]\r\n",
        "\r\n",
        "def remove_stopwords(text):\r\n",
        "    stopwords_cleaning=[word for word in text if word not in stopwords]\r\n",
        "    return stopwords_cleaning \r\n",
        "\r\n",
        "stopwords"
      ],
      "execution_count": 103,
      "outputs": [
        {
          "output_type": "stream",
          "text": [
            "[nltk_data] Downloading package stopwords to /root/nltk_data...\n",
            "[nltk_data]   Package stopwords is already up-to-date!\n"
          ],
          "name": "stdout"
        },
        {
          "output_type": "execute_result",
          "data": {
            "text/plain": [
              "['i',\n",
              " 'me',\n",
              " 'my',\n",
              " 'myself',\n",
              " 'we',\n",
              " 'our',\n",
              " 'ours',\n",
              " 'ourselves',\n",
              " 'you',\n",
              " \"you're\",\n",
              " \"you've\",\n",
              " \"you'll\",\n",
              " \"you'd\",\n",
              " 'your',\n",
              " 'yours',\n",
              " 'yourself',\n",
              " 'yourselves',\n",
              " 'he',\n",
              " 'him',\n",
              " 'his',\n",
              " 'himself',\n",
              " 'she',\n",
              " \"she's\",\n",
              " 'her',\n",
              " 'hers',\n",
              " 'herself',\n",
              " 'it',\n",
              " \"it's\",\n",
              " 'its',\n",
              " 'itself',\n",
              " 'they',\n",
              " 'them',\n",
              " 'their',\n",
              " 'theirs',\n",
              " 'themselves',\n",
              " 'what',\n",
              " 'which',\n",
              " 'who',\n",
              " 'whom',\n",
              " 'this',\n",
              " 'that',\n",
              " \"that'll\",\n",
              " 'these',\n",
              " 'those',\n",
              " 'am',\n",
              " 'is',\n",
              " 'are',\n",
              " 'was',\n",
              " 'were',\n",
              " 'be',\n",
              " 'been',\n",
              " 'being',\n",
              " 'have',\n",
              " 'has',\n",
              " 'had',\n",
              " 'having',\n",
              " 'do',\n",
              " 'does',\n",
              " 'did',\n",
              " 'doing',\n",
              " 'a',\n",
              " 'an',\n",
              " 'the',\n",
              " 'and',\n",
              " 'but',\n",
              " 'if',\n",
              " 'or',\n",
              " 'because',\n",
              " 'as',\n",
              " 'until',\n",
              " 'while',\n",
              " 'of',\n",
              " 'at',\n",
              " 'by',\n",
              " 'for',\n",
              " 'with',\n",
              " 'about',\n",
              " 'against',\n",
              " 'between',\n",
              " 'into',\n",
              " 'through',\n",
              " 'during',\n",
              " 'before',\n",
              " 'after',\n",
              " 'above',\n",
              " 'below',\n",
              " 'to',\n",
              " 'from',\n",
              " 'up',\n",
              " 'down',\n",
              " 'in',\n",
              " 'out',\n",
              " 'on',\n",
              " 'off',\n",
              " 'over',\n",
              " 'under',\n",
              " 'again',\n",
              " 'further',\n",
              " 'then',\n",
              " 'once',\n",
              " 'here',\n",
              " 'there',\n",
              " 'when',\n",
              " 'where',\n",
              " 'why',\n",
              " 'how',\n",
              " 'all',\n",
              " 'any',\n",
              " 'both',\n",
              " 'each',\n",
              " 'few',\n",
              " 'more',\n",
              " 'most',\n",
              " 'other',\n",
              " 'some',\n",
              " 'such',\n",
              " 'no',\n",
              " 'nor',\n",
              " 'not',\n",
              " 'only',\n",
              " 'own',\n",
              " 'same',\n",
              " 'so',\n",
              " 'than',\n",
              " 'too',\n",
              " 'very',\n",
              " 's',\n",
              " 't',\n",
              " 'can',\n",
              " 'will',\n",
              " 'just',\n",
              " 'don',\n",
              " \"don't\",\n",
              " 'should',\n",
              " \"should've\",\n",
              " 'now',\n",
              " 'd',\n",
              " 'll',\n",
              " 'm',\n",
              " 'o',\n",
              " 're',\n",
              " 've',\n",
              " 'y',\n",
              " 'ain',\n",
              " 'aren',\n",
              " \"aren't\",\n",
              " 'couldn',\n",
              " \"couldn't\",\n",
              " 'didn',\n",
              " \"didn't\",\n",
              " 'doesn',\n",
              " \"doesn't\",\n",
              " 'hadn',\n",
              " \"hadn't\",\n",
              " 'hasn',\n",
              " \"hasn't\",\n",
              " 'haven',\n",
              " \"haven't\",\n",
              " 'isn',\n",
              " \"isn't\",\n",
              " 'ma',\n",
              " 'mightn',\n",
              " \"mightn't\",\n",
              " 'mustn',\n",
              " \"mustn't\",\n",
              " 'needn',\n",
              " \"needn't\",\n",
              " 'shan',\n",
              " \"shan't\",\n",
              " 'shouldn',\n",
              " \"shouldn't\",\n",
              " 'wasn',\n",
              " \"wasn't\",\n",
              " 'weren',\n",
              " \"weren't\",\n",
              " 'won',\n",
              " \"won't\",\n",
              " 'wouldn',\n",
              " \"wouldn't\"]"
            ]
          },
          "metadata": {
            "tags": []
          },
          "execution_count": 103
        }
      ]
    },
    {
      "cell_type": "code",
      "metadata": {
        "colab": {
          "base_uri": "https://localhost:8080/",
          "height": 256
        },
        "id": "LQ8AJ3M-WUlS",
        "outputId": "3a95ac68-08be-4652-a54d-eb63f0b3af4b"
      },
      "source": [
        "data['stopwords_cleaning']=data['tokenized_text'].apply(lambda row : remove_stopwords(row))\r\n",
        "data.head()"
      ],
      "execution_count": 104,
      "outputs": [
        {
          "output_type": "execute_result",
          "data": {
            "text/html": [
              "<div>\n",
              "<style scoped>\n",
              "    .dataframe tbody tr th:only-of-type {\n",
              "        vertical-align: middle;\n",
              "    }\n",
              "\n",
              "    .dataframe tbody tr th {\n",
              "        vertical-align: top;\n",
              "    }\n",
              "\n",
              "    .dataframe thead th {\n",
              "        text-align: right;\n",
              "    }\n",
              "</style>\n",
              "<table border=\"1\" class=\"dataframe\">\n",
              "  <thead>\n",
              "    <tr style=\"text-align: right;\">\n",
              "      <th></th>\n",
              "      <th>label</th>\n",
              "      <th>text</th>\n",
              "      <th>remove_punc</th>\n",
              "      <th>tokenized_text</th>\n",
              "      <th>stopwords_cleaning</th>\n",
              "    </tr>\n",
              "  </thead>\n",
              "  <tbody>\n",
              "    <tr>\n",
              "      <th>0</th>\n",
              "      <td>ham</td>\n",
              "      <td>Subject: enron methanol ; meter # : 988291\\r\\n...</td>\n",
              "      <td>Subject enron methanol  meter   988291\\r\\nthis...</td>\n",
              "      <td>[subject, enron, methanol, meter, 988291, this...</td>\n",
              "      <td>[subject, enron, methanol, meter, 988291, foll...</td>\n",
              "    </tr>\n",
              "    <tr>\n",
              "      <th>1</th>\n",
              "      <td>ham</td>\n",
              "      <td>Subject: hpl nom for january 9 , 2001\\r\\n( see...</td>\n",
              "      <td>Subject hpl nom for january 9  2001\\r\\n see at...</td>\n",
              "      <td>[subject, hpl, nom, for, january, 9, 2001, see...</td>\n",
              "      <td>[subject, hpl, nom, january, 9, 2001, see, att...</td>\n",
              "    </tr>\n",
              "    <tr>\n",
              "      <th>2</th>\n",
              "      <td>ham</td>\n",
              "      <td>Subject: neon retreat\\r\\nho ho ho , we ' re ar...</td>\n",
              "      <td>Subject neon retreat\\r\\nho ho ho  we  re aroun...</td>\n",
              "      <td>[subject, neon, retreat, ho, ho, ho, we, re, a...</td>\n",
              "      <td>[subject, neon, retreat, ho, ho, ho, around, w...</td>\n",
              "    </tr>\n",
              "    <tr>\n",
              "      <th>3</th>\n",
              "      <td>spam</td>\n",
              "      <td>Subject: photoshop , windows , office . cheap ...</td>\n",
              "      <td>Subject photoshop  windows  office  cheap  mai...</td>\n",
              "      <td>[subject, photoshop, windows, office, cheap, m...</td>\n",
              "      <td>[subject, photoshop, windows, office, cheap, m...</td>\n",
              "    </tr>\n",
              "    <tr>\n",
              "      <th>4</th>\n",
              "      <td>ham</td>\n",
              "      <td>Subject: re : indian springs\\r\\nthis deal is t...</td>\n",
              "      <td>Subject re  indian springs\\r\\nthis deal is to ...</td>\n",
              "      <td>[subject, re, indian, springs, this, deal, is,...</td>\n",
              "      <td>[subject, indian, springs, deal, book, teco, p...</td>\n",
              "    </tr>\n",
              "  </tbody>\n",
              "</table>\n",
              "</div>"
            ],
            "text/plain": [
              "  label  ...                                 stopwords_cleaning\n",
              "0   ham  ...  [subject, enron, methanol, meter, 988291, foll...\n",
              "1   ham  ...  [subject, hpl, nom, january, 9, 2001, see, att...\n",
              "2   ham  ...  [subject, neon, retreat, ho, ho, ho, around, w...\n",
              "3  spam  ...  [subject, photoshop, windows, office, cheap, m...\n",
              "4   ham  ...  [subject, indian, springs, deal, book, teco, p...\n",
              "\n",
              "[5 rows x 5 columns]"
            ]
          },
          "metadata": {
            "tags": []
          },
          "execution_count": 104
        }
      ]
    },
    {
      "cell_type": "code",
      "metadata": {
        "colab": {
          "base_uri": "https://localhost:8080/",
          "height": 272
        },
        "id": "xtKAyKrBWbdV",
        "outputId": "73f40bae-1738-4dcf-b277-d2f90559a0d1"
      },
      "source": [
        "bannedWord = ['subject']\r\n",
        "def remove_bannedWord(stopwords_cleaning):\r\n",
        "    bannedword_cleaning=[word for word in stopwords_cleaning if word not in bannedWord]\r\n",
        "    return bannedword_cleaning \r\n",
        "data['bannedword_cleaning']=data['stopwords_cleaning'].apply(lambda row : remove_bannedWord(row))\r\n",
        "data.head()"
      ],
      "execution_count": 105,
      "outputs": [
        {
          "output_type": "execute_result",
          "data": {
            "text/html": [
              "<div>\n",
              "<style scoped>\n",
              "    .dataframe tbody tr th:only-of-type {\n",
              "        vertical-align: middle;\n",
              "    }\n",
              "\n",
              "    .dataframe tbody tr th {\n",
              "        vertical-align: top;\n",
              "    }\n",
              "\n",
              "    .dataframe thead th {\n",
              "        text-align: right;\n",
              "    }\n",
              "</style>\n",
              "<table border=\"1\" class=\"dataframe\">\n",
              "  <thead>\n",
              "    <tr style=\"text-align: right;\">\n",
              "      <th></th>\n",
              "      <th>label</th>\n",
              "      <th>text</th>\n",
              "      <th>remove_punc</th>\n",
              "      <th>tokenized_text</th>\n",
              "      <th>stopwords_cleaning</th>\n",
              "      <th>bannedword_cleaning</th>\n",
              "    </tr>\n",
              "  </thead>\n",
              "  <tbody>\n",
              "    <tr>\n",
              "      <th>0</th>\n",
              "      <td>ham</td>\n",
              "      <td>Subject: enron methanol ; meter # : 988291\\r\\n...</td>\n",
              "      <td>Subject enron methanol  meter   988291\\r\\nthis...</td>\n",
              "      <td>[subject, enron, methanol, meter, 988291, this...</td>\n",
              "      <td>[subject, enron, methanol, meter, 988291, foll...</td>\n",
              "      <td>[enron, methanol, meter, 988291, follow, note,...</td>\n",
              "    </tr>\n",
              "    <tr>\n",
              "      <th>1</th>\n",
              "      <td>ham</td>\n",
              "      <td>Subject: hpl nom for january 9 , 2001\\r\\n( see...</td>\n",
              "      <td>Subject hpl nom for january 9  2001\\r\\n see at...</td>\n",
              "      <td>[subject, hpl, nom, for, january, 9, 2001, see...</td>\n",
              "      <td>[subject, hpl, nom, january, 9, 2001, see, att...</td>\n",
              "      <td>[hpl, nom, january, 9, 2001, see, attached, fi...</td>\n",
              "    </tr>\n",
              "    <tr>\n",
              "      <th>2</th>\n",
              "      <td>ham</td>\n",
              "      <td>Subject: neon retreat\\r\\nho ho ho , we ' re ar...</td>\n",
              "      <td>Subject neon retreat\\r\\nho ho ho  we  re aroun...</td>\n",
              "      <td>[subject, neon, retreat, ho, ho, ho, we, re, a...</td>\n",
              "      <td>[subject, neon, retreat, ho, ho, ho, around, w...</td>\n",
              "      <td>[neon, retreat, ho, ho, ho, around, wonderful,...</td>\n",
              "    </tr>\n",
              "    <tr>\n",
              "      <th>3</th>\n",
              "      <td>spam</td>\n",
              "      <td>Subject: photoshop , windows , office . cheap ...</td>\n",
              "      <td>Subject photoshop  windows  office  cheap  mai...</td>\n",
              "      <td>[subject, photoshop, windows, office, cheap, m...</td>\n",
              "      <td>[subject, photoshop, windows, office, cheap, m...</td>\n",
              "      <td>[photoshop, windows, office, cheap, main, tren...</td>\n",
              "    </tr>\n",
              "    <tr>\n",
              "      <th>4</th>\n",
              "      <td>ham</td>\n",
              "      <td>Subject: re : indian springs\\r\\nthis deal is t...</td>\n",
              "      <td>Subject re  indian springs\\r\\nthis deal is to ...</td>\n",
              "      <td>[subject, re, indian, springs, this, deal, is,...</td>\n",
              "      <td>[subject, indian, springs, deal, book, teco, p...</td>\n",
              "      <td>[indian, springs, deal, book, teco, pvr, reven...</td>\n",
              "    </tr>\n",
              "  </tbody>\n",
              "</table>\n",
              "</div>"
            ],
            "text/plain": [
              "  label  ...                                bannedword_cleaning\n",
              "0   ham  ...  [enron, methanol, meter, 988291, follow, note,...\n",
              "1   ham  ...  [hpl, nom, january, 9, 2001, see, attached, fi...\n",
              "2   ham  ...  [neon, retreat, ho, ho, ho, around, wonderful,...\n",
              "3  spam  ...  [photoshop, windows, office, cheap, main, tren...\n",
              "4   ham  ...  [indian, springs, deal, book, teco, pvr, reven...\n",
              "\n",
              "[5 rows x 6 columns]"
            ]
          },
          "metadata": {
            "tags": []
          },
          "execution_count": 105
        }
      ]
    },
    {
      "cell_type": "code",
      "metadata": {
        "colab": {
          "base_uri": "https://localhost:8080/",
          "height": 191
        },
        "id": "Rdep_f1JWgz-",
        "outputId": "bcadac27-2597-49df-adcb-6f2dbe1b7e6a"
      },
      "source": [
        "ps = nltk.PorterStemmer()\r\n",
        "dir(ps)\r\n",
        "def stemming(bannedword_cleaning):\r\n",
        "    stemmed_text=[ps.stem(word) for word in bannedword_cleaning]\r\n",
        "    return stemmed_text\r\n",
        "    \r\n",
        "data['stemmed_text']=data.bannedword_cleaning.apply(lambda row : stemming(row))\r\n",
        "data[['text','stemmed_text']].head()"
      ],
      "execution_count": 106,
      "outputs": [
        {
          "output_type": "execute_result",
          "data": {
            "text/html": [
              "<div>\n",
              "<style scoped>\n",
              "    .dataframe tbody tr th:only-of-type {\n",
              "        vertical-align: middle;\n",
              "    }\n",
              "\n",
              "    .dataframe tbody tr th {\n",
              "        vertical-align: top;\n",
              "    }\n",
              "\n",
              "    .dataframe thead th {\n",
              "        text-align: right;\n",
              "    }\n",
              "</style>\n",
              "<table border=\"1\" class=\"dataframe\">\n",
              "  <thead>\n",
              "    <tr style=\"text-align: right;\">\n",
              "      <th></th>\n",
              "      <th>text</th>\n",
              "      <th>stemmed_text</th>\n",
              "    </tr>\n",
              "  </thead>\n",
              "  <tbody>\n",
              "    <tr>\n",
              "      <th>0</th>\n",
              "      <td>Subject: enron methanol ; meter # : 988291\\r\\n...</td>\n",
              "      <td>[enron, methanol, meter, 988291, follow, note,...</td>\n",
              "    </tr>\n",
              "    <tr>\n",
              "      <th>1</th>\n",
              "      <td>Subject: hpl nom for january 9 , 2001\\r\\n( see...</td>\n",
              "      <td>[hpl, nom, januari, 9, 2001, see, attach, file...</td>\n",
              "    </tr>\n",
              "    <tr>\n",
              "      <th>2</th>\n",
              "      <td>Subject: neon retreat\\r\\nho ho ho , we ' re ar...</td>\n",
              "      <td>[neon, retreat, ho, ho, ho, around, wonder, ti...</td>\n",
              "    </tr>\n",
              "    <tr>\n",
              "      <th>3</th>\n",
              "      <td>Subject: photoshop , windows , office . cheap ...</td>\n",
              "      <td>[photoshop, window, offic, cheap, main, trend,...</td>\n",
              "    </tr>\n",
              "    <tr>\n",
              "      <th>4</th>\n",
              "      <td>Subject: re : indian springs\\r\\nthis deal is t...</td>\n",
              "      <td>[indian, spring, deal, book, teco, pvr, revenu...</td>\n",
              "    </tr>\n",
              "  </tbody>\n",
              "</table>\n",
              "</div>"
            ],
            "text/plain": [
              "                                                text                                       stemmed_text\n",
              "0  Subject: enron methanol ; meter # : 988291\\r\\n...  [enron, methanol, meter, 988291, follow, note,...\n",
              "1  Subject: hpl nom for january 9 , 2001\\r\\n( see...  [hpl, nom, januari, 9, 2001, see, attach, file...\n",
              "2  Subject: neon retreat\\r\\nho ho ho , we ' re ar...  [neon, retreat, ho, ho, ho, around, wonder, ti...\n",
              "3  Subject: photoshop , windows , office . cheap ...  [photoshop, window, offic, cheap, main, trend,...\n",
              "4  Subject: re : indian springs\\r\\nthis deal is t...  [indian, spring, deal, book, teco, pvr, revenu..."
            ]
          },
          "metadata": {
            "tags": []
          },
          "execution_count": 106
        }
      ]
    },
    {
      "cell_type": "code",
      "metadata": {
        "colab": {
          "base_uri": "https://localhost:8080/",
          "height": 353
        },
        "id": "i4ETxC05Ww5O",
        "outputId": "c6d8f214-8787-4f7b-e613-09de540bdd3e"
      },
      "source": [
        "def get_final_text(stemmed_text):\r\n",
        "    final_text=\" \".join([word for word in stemmed_text])\r\n",
        "    return final_text\r\n",
        "data['final_text']=data.stemmed_text.apply(lambda row : get_final_text(row))\r\n",
        "data.head()"
      ],
      "execution_count": 107,
      "outputs": [
        {
          "output_type": "execute_result",
          "data": {
            "text/html": [
              "<div>\n",
              "<style scoped>\n",
              "    .dataframe tbody tr th:only-of-type {\n",
              "        vertical-align: middle;\n",
              "    }\n",
              "\n",
              "    .dataframe tbody tr th {\n",
              "        vertical-align: top;\n",
              "    }\n",
              "\n",
              "    .dataframe thead th {\n",
              "        text-align: right;\n",
              "    }\n",
              "</style>\n",
              "<table border=\"1\" class=\"dataframe\">\n",
              "  <thead>\n",
              "    <tr style=\"text-align: right;\">\n",
              "      <th></th>\n",
              "      <th>label</th>\n",
              "      <th>text</th>\n",
              "      <th>remove_punc</th>\n",
              "      <th>tokenized_text</th>\n",
              "      <th>stopwords_cleaning</th>\n",
              "      <th>bannedword_cleaning</th>\n",
              "      <th>stemmed_text</th>\n",
              "      <th>final_text</th>\n",
              "    </tr>\n",
              "  </thead>\n",
              "  <tbody>\n",
              "    <tr>\n",
              "      <th>0</th>\n",
              "      <td>ham</td>\n",
              "      <td>Subject: enron methanol ; meter # : 988291\\r\\n...</td>\n",
              "      <td>Subject enron methanol  meter   988291\\r\\nthis...</td>\n",
              "      <td>[subject, enron, methanol, meter, 988291, this...</td>\n",
              "      <td>[subject, enron, methanol, meter, 988291, foll...</td>\n",
              "      <td>[enron, methanol, meter, 988291, follow, note,...</td>\n",
              "      <td>[enron, methanol, meter, 988291, follow, note,...</td>\n",
              "      <td>enron methanol meter 988291 follow note gave m...</td>\n",
              "    </tr>\n",
              "    <tr>\n",
              "      <th>1</th>\n",
              "      <td>ham</td>\n",
              "      <td>Subject: hpl nom for january 9 , 2001\\r\\n( see...</td>\n",
              "      <td>Subject hpl nom for january 9  2001\\r\\n see at...</td>\n",
              "      <td>[subject, hpl, nom, for, january, 9, 2001, see...</td>\n",
              "      <td>[subject, hpl, nom, january, 9, 2001, see, att...</td>\n",
              "      <td>[hpl, nom, january, 9, 2001, see, attached, fi...</td>\n",
              "      <td>[hpl, nom, januari, 9, 2001, see, attach, file...</td>\n",
              "      <td>hpl nom januari 9 2001 see attach file hplnol ...</td>\n",
              "    </tr>\n",
              "    <tr>\n",
              "      <th>2</th>\n",
              "      <td>ham</td>\n",
              "      <td>Subject: neon retreat\\r\\nho ho ho , we ' re ar...</td>\n",
              "      <td>Subject neon retreat\\r\\nho ho ho  we  re aroun...</td>\n",
              "      <td>[subject, neon, retreat, ho, ho, ho, we, re, a...</td>\n",
              "      <td>[subject, neon, retreat, ho, ho, ho, around, w...</td>\n",
              "      <td>[neon, retreat, ho, ho, ho, around, wonderful,...</td>\n",
              "      <td>[neon, retreat, ho, ho, ho, around, wonder, ti...</td>\n",
              "      <td>neon retreat ho ho ho around wonder time year ...</td>\n",
              "    </tr>\n",
              "    <tr>\n",
              "      <th>3</th>\n",
              "      <td>spam</td>\n",
              "      <td>Subject: photoshop , windows , office . cheap ...</td>\n",
              "      <td>Subject photoshop  windows  office  cheap  mai...</td>\n",
              "      <td>[subject, photoshop, windows, office, cheap, m...</td>\n",
              "      <td>[subject, photoshop, windows, office, cheap, m...</td>\n",
              "      <td>[photoshop, windows, office, cheap, main, tren...</td>\n",
              "      <td>[photoshop, window, offic, cheap, main, trend,...</td>\n",
              "      <td>photoshop window offic cheap main trend abas d...</td>\n",
              "    </tr>\n",
              "    <tr>\n",
              "      <th>4</th>\n",
              "      <td>ham</td>\n",
              "      <td>Subject: re : indian springs\\r\\nthis deal is t...</td>\n",
              "      <td>Subject re  indian springs\\r\\nthis deal is to ...</td>\n",
              "      <td>[subject, re, indian, springs, this, deal, is,...</td>\n",
              "      <td>[subject, indian, springs, deal, book, teco, p...</td>\n",
              "      <td>[indian, springs, deal, book, teco, pvr, reven...</td>\n",
              "      <td>[indian, spring, deal, book, teco, pvr, revenu...</td>\n",
              "      <td>indian spring deal book teco pvr revenu unders...</td>\n",
              "    </tr>\n",
              "  </tbody>\n",
              "</table>\n",
              "</div>"
            ],
            "text/plain": [
              "  label  ...                                         final_text\n",
              "0   ham  ...  enron methanol meter 988291 follow note gave m...\n",
              "1   ham  ...  hpl nom januari 9 2001 see attach file hplnol ...\n",
              "2   ham  ...  neon retreat ho ho ho around wonder time year ...\n",
              "3  spam  ...  photoshop window offic cheap main trend abas d...\n",
              "4   ham  ...  indian spring deal book teco pvr revenu unders...\n",
              "\n",
              "[5 rows x 8 columns]"
            ]
          },
          "metadata": {
            "tags": []
          },
          "execution_count": 107
        }
      ]
    },
    {
      "cell_type": "code",
      "metadata": {
        "id": "ndrF7wkYW5HL"
      },
      "source": [
        "import numpy as np\r\n",
        "import pandas as pd\r\n",
        "import matplotlib.pyplot as plt\r\n",
        "from collections import Counter\r\n",
        "from sklearn import feature_extraction, model_selection, naive_bayes, metrics, svm\r\n",
        "from IPython.display import Image\r\n",
        "import warnings\r\n",
        "warnings.filterwarnings(\"ignore\")\r\n",
        "%matplotlib inline  "
      ],
      "execution_count": 108,
      "outputs": []
    },
    {
      "cell_type": "code",
      "metadata": {
        "id": "-h5deMmBXQ8G"
      },
      "source": [
        "count1 = Counter(\" \".join(data[data['label']=='ham'][\"final_text\"]).split()).most_common(20)\r\n",
        "df1 = pd.DataFrame.from_dict(count1)\r\n",
        "df1 = df1.rename(columns={0: \"words in non-spam\", 1 : \"count\"})\r\n",
        "count2 = Counter(\" \".join(data[data['label']=='spam'][\"final_text\"]).split()).most_common(20)\r\n",
        "df2 = pd.DataFrame.from_dict(count2)\r\n",
        "df2 = df2.rename(columns={0: \"words in spam\", 1 : \"count_\"})"
      ],
      "execution_count": 109,
      "outputs": []
    },
    {
      "cell_type": "code",
      "metadata": {
        "colab": {
          "base_uri": "https://localhost:8080/",
          "height": 315
        },
        "id": "uh5q3ZiAXTi2",
        "outputId": "87bbab9c-ada9-46a6-c227-26e669e2e151"
      },
      "source": [
        "df1.plot.bar(legend = False)\r\n",
        "y_pos = np.arange(len(df1[\"words in non-spam\"]))\r\n",
        "plt.xticks(y_pos, df1[\"words in non-spam\"])\r\n",
        "plt.title('More frequent words in non-spam email')\r\n",
        "plt.xlabel('words')\r\n",
        "plt.ylabel('number')\r\n",
        "plt.show()"
      ],
      "execution_count": 110,
      "outputs": [
        {
          "output_type": "display_data",
          "data": {
            "image/png": "[encoded data removed]",
            "text/plain": [
              "<Figure size 432x288 with 1 Axes>"
            ]
          },
          "metadata": {
            "tags": [],
            "needs_background": "light"
          }
        }
      ]
    },
    {
      "cell_type": "code",
      "metadata": {
        "colab": {
          "base_uri": "https://localhost:8080/",
          "height": 337
        },
        "id": "844PY6DwXXHr",
        "outputId": "09156752-9b3b-42af-beb5-f148ce909080"
      },
      "source": [
        "df2.plot.bar(legend = False, color = 'orange')\r\n",
        "y_pos = np.arange(len(df2[\"words in spam\"]))\r\n",
        "plt.xticks(y_pos, df2[\"words in spam\"])\r\n",
        "plt.title('More frequent words in spam email')\r\n",
        "plt.xlabel('words')\r\n",
        "plt.ylabel('number')\r\n",
        "plt.show()"
      ],
      "execution_count": 111,
      "outputs": [
        {
          "output_type": "display_data",
          "data": {
            "image/png": "[encoded data removed]",
            "text/plain": [
              "<Figure size 432x288 with 1 Axes>"
            ]
          },
          "metadata": {
            "tags": [],
            "needs_background": "light"
          }
        }
      ]
    },
    {
      "cell_type": "code",
      "metadata": {
        "colab": {
          "base_uri": "https://localhost:8080/"
        },
        "id": "uv6PovV2XYeC",
        "outputId": "f34dbb67-ef64-43b8-9c74-72deb330e8a9"
      },
      "source": [
        "f = feature_extraction.text.CountVectorizer()\r\n",
        "X = f.fit_transform(data[\"final_text\"])\r\n",
        "np.shape(X)"
      ],
      "execution_count": 112,
      "outputs": [
        {
          "output_type": "execute_result",
          "data": {
            "text/plain": [
              "(5171, 42637)"
            ]
          },
          "metadata": {
            "tags": []
          },
          "execution_count": 112
        }
      ]
    },
    {
      "cell_type": "code",
      "metadata": {
        "colab": {
          "base_uri": "https://localhost:8080/"
        },
        "id": "Ff5up9gCXdw_",
        "outputId": "f5162f9b-b03e-4491-e717-dac058ca3f26"
      },
      "source": [
        "data[\"label\"]=data[\"label\"].map({'spam':1,'ham':0})\r\n",
        "X_train, X_test, y_train, y_test = model_selection.train_test_split(X, data['label'], test_size=0.2, random_state=42)\r\n",
        "print([np.shape(X_train), np.shape(X_test)])"
      ],
      "execution_count": 113,
      "outputs": [
        {
          "output_type": "stream",
          "text": [
            "[(4136, 42637), (1035, 42637)]\n"
          ],
          "name": "stdout"
        }
      ]
    },
    {
      "cell_type": "markdown",
      "metadata": {
        "id": "eJD5Gx_VXgtE"
      },
      "source": [
        "*MULTINOMIAL NAIVE BAYES CLASSIFIER*"
      ]
    },
    {
      "cell_type": "code",
      "metadata": {
        "id": "ZojPlzalXpE-"
      },
      "source": [
        "from sklearn.metrics import precision_score, \\\r\n",
        "    recall_score, confusion_matrix, classification_report, \\\r\n",
        "    accuracy_score, f1_score"
      ],
      "execution_count": 114,
      "outputs": []
    },
    {
      "cell_type": "code",
      "metadata": {
        "id": "1FiSwmnoYYLe"
      },
      "source": [
        "list_alpha = np.arange(1/100000, 20, 1)\r\n",
        "score_train = np.zeros(len(list_alpha))\r\n",
        "score_test = np.zeros(len(list_alpha))\r\n",
        "recall_test = np.zeros(len(list_alpha))\r\n",
        "precision_test= np.zeros(len(list_alpha))\r\n",
        "count = 0\r\n",
        "for alpha in list_alpha:\r\n",
        "    bayes = naive_bayes.MultinomialNB(alpha=alpha)\r\n",
        "    bayes.fit(X_train, y_train)\r\n",
        "    score_train[count] = bayes.score(X_train, y_train)\r\n",
        "    score_test[count]= bayes.score(X_test, y_test)\r\n",
        "    recall_test[count] = metrics.recall_score(y_test, bayes.predict(X_test))\r\n",
        "    precision_test[count] = metrics.precision_score(y_test, bayes.predict(X_test))\r\n",
        "    count = count + 1 "
      ],
      "execution_count": 115,
      "outputs": []
    },
    {
      "cell_type": "code",
      "metadata": {
        "colab": {
          "base_uri": "https://localhost:8080/",
          "height": 335
        },
        "id": "C1WKBM7fYdt5",
        "outputId": "81baa9ed-8bb0-4e1d-c489-415aa7bae848"
      },
      "source": [
        "  matrix = np.matrix(np.c_[list_alpha, score_train, score_test, recall_test, precision_test])\r\n",
        "  models = pd.DataFrame(data = matrix, columns = \r\n",
        "              ['alpha', 'Train Accuracy', 'Test Accuracy', 'Test Recall', 'Test Precision'])\r\n",
        "  models.head(n=10)"
      ],
      "execution_count": 116,
      "outputs": [
        {
          "output_type": "execute_result",
          "data": {
            "text/html": [
              "<div>\n",
              "<style scoped>\n",
              "    .dataframe tbody tr th:only-of-type {\n",
              "        vertical-align: middle;\n",
              "    }\n",
              "\n",
              "    .dataframe tbody tr th {\n",
              "        vertical-align: top;\n",
              "    }\n",
              "\n",
              "    .dataframe thead th {\n",
              "        text-align: right;\n",
              "    }\n",
              "</style>\n",
              "<table border=\"1\" class=\"dataframe\">\n",
              "  <thead>\n",
              "    <tr style=\"text-align: right;\">\n",
              "      <th></th>\n",
              "      <th>alpha</th>\n",
              "      <th>Train Accuracy</th>\n",
              "      <th>Test Accuracy</th>\n",
              "      <th>Test Recall</th>\n",
              "      <th>Test Precision</th>\n",
              "    </tr>\n",
              "  </thead>\n",
              "  <tbody>\n",
              "    <tr>\n",
              "      <th>0</th>\n",
              "      <td>0.00001</td>\n",
              "      <td>0.992505</td>\n",
              "      <td>0.974879</td>\n",
              "      <td>0.959044</td>\n",
              "      <td>0.952542</td>\n",
              "    </tr>\n",
              "    <tr>\n",
              "      <th>1</th>\n",
              "      <td>1.00001</td>\n",
              "      <td>0.986219</td>\n",
              "      <td>0.974879</td>\n",
              "      <td>0.965870</td>\n",
              "      <td>0.946488</td>\n",
              "    </tr>\n",
              "    <tr>\n",
              "      <th>2</th>\n",
              "      <td>2.00001</td>\n",
              "      <td>0.984526</td>\n",
              "      <td>0.975845</td>\n",
              "      <td>0.962457</td>\n",
              "      <td>0.952703</td>\n",
              "    </tr>\n",
              "    <tr>\n",
              "      <th>3</th>\n",
              "      <td>3.00001</td>\n",
              "      <td>0.983317</td>\n",
              "      <td>0.978744</td>\n",
              "      <td>0.962457</td>\n",
              "      <td>0.962457</td>\n",
              "    </tr>\n",
              "    <tr>\n",
              "      <th>4</th>\n",
              "      <td>4.00001</td>\n",
              "      <td>0.981383</td>\n",
              "      <td>0.977778</td>\n",
              "      <td>0.948805</td>\n",
              "      <td>0.972028</td>\n",
              "    </tr>\n",
              "    <tr>\n",
              "      <th>5</th>\n",
              "      <td>5.00001</td>\n",
              "      <td>0.978240</td>\n",
              "      <td>0.974879</td>\n",
              "      <td>0.935154</td>\n",
              "      <td>0.975089</td>\n",
              "    </tr>\n",
              "    <tr>\n",
              "      <th>6</th>\n",
              "      <td>6.00001</td>\n",
              "      <td>0.976306</td>\n",
              "      <td>0.971014</td>\n",
              "      <td>0.921502</td>\n",
              "      <td>0.974729</td>\n",
              "    </tr>\n",
              "    <tr>\n",
              "      <th>7</th>\n",
              "      <td>7.00001</td>\n",
              "      <td>0.973404</td>\n",
              "      <td>0.965217</td>\n",
              "      <td>0.901024</td>\n",
              "      <td>0.974170</td>\n",
              "    </tr>\n",
              "    <tr>\n",
              "      <th>8</th>\n",
              "      <td>8.00001</td>\n",
              "      <td>0.970986</td>\n",
              "      <td>0.962319</td>\n",
              "      <td>0.883959</td>\n",
              "      <td>0.981061</td>\n",
              "    </tr>\n",
              "    <tr>\n",
              "      <th>9</th>\n",
              "      <td>9.00001</td>\n",
              "      <td>0.968085</td>\n",
              "      <td>0.958454</td>\n",
              "      <td>0.870307</td>\n",
              "      <td>0.980769</td>\n",
              "    </tr>\n",
              "  </tbody>\n",
              "</table>\n",
              "</div>"
            ],
            "text/plain": [
              "     alpha  Train Accuracy  Test Accuracy  Test Recall  Test Precision\n",
              "0  0.00001        0.992505       0.974879     0.959044        0.952542\n",
              "1  1.00001        0.986219       0.974879     0.965870        0.946488\n",
              "2  2.00001        0.984526       0.975845     0.962457        0.952703\n",
              "3  3.00001        0.983317       0.978744     0.962457        0.962457\n",
              "4  4.00001        0.981383       0.977778     0.948805        0.972028\n",
              "5  5.00001        0.978240       0.974879     0.935154        0.975089\n",
              "6  6.00001        0.976306       0.971014     0.921502        0.974729\n",
              "7  7.00001        0.973404       0.965217     0.901024        0.974170\n",
              "8  8.00001        0.970986       0.962319     0.883959        0.981061\n",
              "9  9.00001        0.968085       0.958454     0.870307        0.980769"
            ]
          },
          "metadata": {
            "tags": []
          },
          "execution_count": 116
        }
      ]
    },
    {
      "cell_type": "code",
      "metadata": {
        "colab": {
          "base_uri": "https://localhost:8080/"
        },
        "id": "iouRNeCSYg6r",
        "outputId": "bb8dc699-0b66-4d90-f742-20e82b39e0bc"
      },
      "source": [
        "best_index = models['Test Precision'].idxmax()\r\n",
        "models.iloc[best_index, :]"
      ],
      "execution_count": 117,
      "outputs": [
        {
          "output_type": "execute_result",
          "data": {
            "text/plain": [
              "alpha             19.000010\n",
              "Train Accuracy     0.941248\n",
              "Test Accuracy      0.927536\n",
              "Test Recall        0.747440\n",
              "Test Precision     0.995455\n",
              "Name: 19, dtype: float64"
            ]
          },
          "metadata": {
            "tags": []
          },
          "execution_count": 117
        }
      ]
    },
    {
      "cell_type": "code",
      "metadata": {
        "colab": {
          "base_uri": "https://localhost:8080/",
          "height": 105
        },
        "id": "plovUahAqPB_",
        "outputId": "0414f9f6-042d-47a0-fe4f-bb698da3d45f"
      },
      "source": [
        "m_confusion_test = metrics.confusion_matrix(y_test, bayes.predict(X_test))\r\n",
        "pd.DataFrame(data = m_confusion_test, columns = ['Predicted Ham', 'Predicted Spam'],\r\n",
        "            index = ['Actual Ham', 'Actual Spam'])"
      ],
      "execution_count": 118,
      "outputs": [
        {
          "output_type": "execute_result",
          "data": {
            "text/html": [
              "<div>\n",
              "<style scoped>\n",
              "    .dataframe tbody tr th:only-of-type {\n",
              "        vertical-align: middle;\n",
              "    }\n",
              "\n",
              "    .dataframe tbody tr th {\n",
              "        vertical-align: top;\n",
              "    }\n",
              "\n",
              "    .dataframe thead th {\n",
              "        text-align: right;\n",
              "    }\n",
              "</style>\n",
              "<table border=\"1\" class=\"dataframe\">\n",
              "  <thead>\n",
              "    <tr style=\"text-align: right;\">\n",
              "      <th></th>\n",
              "      <th>Predicted Ham</th>\n",
              "      <th>Predicted Spam</th>\n",
              "    </tr>\n",
              "  </thead>\n",
              "  <tbody>\n",
              "    <tr>\n",
              "      <th>Actual Ham</th>\n",
              "      <td>741</td>\n",
              "      <td>1</td>\n",
              "    </tr>\n",
              "    <tr>\n",
              "      <th>Actual Spam</th>\n",
              "      <td>74</td>\n",
              "      <td>219</td>\n",
              "    </tr>\n",
              "  </tbody>\n",
              "</table>\n",
              "</div>"
            ],
            "text/plain": [
              "             Predicted Ham  Predicted Spam\n",
              "Actual Ham             741               1\n",
              "Actual Spam             74             219"
            ]
          },
          "metadata": {
            "tags": []
          },
          "execution_count": 118
        }
      ]
    },
    {
      "cell_type": "code",
      "metadata": {
        "colab": {
          "base_uri": "https://localhost:8080/"
        },
        "id": "DBMIMZ7VYkAu",
        "outputId": "05dbacde-ccd8-492f-f21d-49e1f83f3cd8"
      },
      "source": [
        "from sklearn.metrics import classification_report\r\n",
        "print(classification_report(y_test,bayes.predict(X_test)))"
      ],
      "execution_count": 119,
      "outputs": [
        {
          "output_type": "stream",
          "text": [
            "              precision    recall  f1-score   support\n",
            "\n",
            "           0       0.91      1.00      0.95       742\n",
            "           1       1.00      0.75      0.85       293\n",
            "\n",
            "    accuracy                           0.93      1035\n",
            "   macro avg       0.95      0.87      0.90      1035\n",
            "weighted avg       0.93      0.93      0.92      1035\n",
            "\n"
          ],
          "name": "stdout"
        }
      ]
    },
    {
      "cell_type": "code",
      "metadata": {
        "colab": {
          "base_uri": "https://localhost:8080/"
        },
        "id": "35n39PZbpDRz",
        "outputId": "c12ee2d7-fed3-4701-cbfd-0c4d5d87e637"
      },
      "source": [
        "from sklearn.metrics import accuracy_score\r\n",
        "Y_predMNBC = bayes.predict(X_test)\r\n",
        "acc_valMNBC = accuracy_score(y_test,Y_predMNBC)\r\n",
        "re_valMNBC = recall_score(y_test,Y_predMNBC)\r\n",
        "pre_valMNBC = precision_score(y_test,Y_predMNBC)\r\n",
        "f1_valMNBC = f1_score(y_test,Y_predMNBC)\r\n",
        "predMNBC = acc_valMNBC*100\r\n",
        "print(\"Accuracy score MNBC: %.0f\"%predMNBC,\"%\")"
      ],
      "execution_count": 120,
      "outputs": [
        {
          "output_type": "stream",
          "text": [
            "Accuracy score MNBC: 93 %\n"
          ],
          "name": "stdout"
        }
      ]
    },
    {
      "cell_type": "markdown",
      "metadata": {
        "id": "fxHgWr84pYvv"
      },
      "source": [
        "*SUPPORT VECTOR MACHINE*"
      ]
    },
    {
      "cell_type": "code",
      "metadata": {
        "id": "yXW7jn-pplB6"
      },
      "source": [
        "list_C = np.arange(1/100000, 20, 1) #100000\r\n",
        "score_train = np.zeros(len(list_C))\r\n",
        "score_test = np.zeros(len(list_C))\r\n",
        "recall_test = np.zeros(len(list_C))\r\n",
        "precision_test= np.zeros(len(list_C))\r\n",
        "count = 0\r\n",
        "for C in list_C:\r\n",
        "    svc = svm.SVC(C=C)\r\n",
        "    svc.fit(X_train, y_train)\r\n",
        "    score_train[count] = svc.score(X_train, y_train)\r\n",
        "    score_test[count]= svc.score(X_test, y_test)\r\n",
        "    recall_test[count] = metrics.recall_score(y_test, svc.predict(X_test))\r\n",
        "    precision_test[count] = metrics.precision_score(y_test, svc.predict(X_test))\r\n",
        "    count = count + 1 "
      ],
      "execution_count": 121,
      "outputs": []
    },
    {
      "cell_type": "code",
      "metadata": {
        "colab": {
          "base_uri": "https://localhost:8080/",
          "height": 335
        },
        "id": "UYgN1vU3sJV_",
        "outputId": "062e25cb-413d-4c56-b1be-3ef52426e7be"
      },
      "source": [
        "matrix = np.matrix(np.c_[list_C, score_train, score_test, recall_test, precision_test])\r\n",
        "models = pd.DataFrame(data = matrix, columns = \r\n",
        "             ['C', 'Train Accuracy', 'Test Accuracy', 'Test Recall', 'Test Precision'])\r\n",
        "models.head(n=10)"
      ],
      "execution_count": 122,
      "outputs": [
        {
          "output_type": "execute_result",
          "data": {
            "text/html": [
              "<div>\n",
              "<style scoped>\n",
              "    .dataframe tbody tr th:only-of-type {\n",
              "        vertical-align: middle;\n",
              "    }\n",
              "\n",
              "    .dataframe tbody tr th {\n",
              "        vertical-align: top;\n",
              "    }\n",
              "\n",
              "    .dataframe thead th {\n",
              "        text-align: right;\n",
              "    }\n",
              "</style>\n",
              "<table border=\"1\" class=\"dataframe\">\n",
              "  <thead>\n",
              "    <tr style=\"text-align: right;\">\n",
              "      <th></th>\n",
              "      <th>C</th>\n",
              "      <th>Train Accuracy</th>\n",
              "      <th>Test Accuracy</th>\n",
              "      <th>Test Recall</th>\n",
              "      <th>Test Precision</th>\n",
              "    </tr>\n",
              "  </thead>\n",
              "  <tbody>\n",
              "    <tr>\n",
              "      <th>0</th>\n",
              "      <td>0.00001</td>\n",
              "      <td>0.708414</td>\n",
              "      <td>0.716908</td>\n",
              "      <td>0.000000</td>\n",
              "      <td>0.000000</td>\n",
              "    </tr>\n",
              "    <tr>\n",
              "      <th>1</th>\n",
              "      <td>1.00001</td>\n",
              "      <td>0.976064</td>\n",
              "      <td>0.955556</td>\n",
              "      <td>0.962457</td>\n",
              "      <td>0.889590</td>\n",
              "    </tr>\n",
              "    <tr>\n",
              "      <th>2</th>\n",
              "      <td>2.00001</td>\n",
              "      <td>0.978482</td>\n",
              "      <td>0.954589</td>\n",
              "      <td>0.965870</td>\n",
              "      <td>0.884375</td>\n",
              "    </tr>\n",
              "    <tr>\n",
              "      <th>3</th>\n",
              "      <td>3.00001</td>\n",
              "      <td>0.981383</td>\n",
              "      <td>0.957488</td>\n",
              "      <td>0.965870</td>\n",
              "      <td>0.892744</td>\n",
              "    </tr>\n",
              "    <tr>\n",
              "      <th>4</th>\n",
              "      <td>4.00001</td>\n",
              "      <td>0.984043</td>\n",
              "      <td>0.958454</td>\n",
              "      <td>0.965870</td>\n",
              "      <td>0.895570</td>\n",
              "    </tr>\n",
              "    <tr>\n",
              "      <th>5</th>\n",
              "      <td>5.00001</td>\n",
              "      <td>0.985493</td>\n",
              "      <td>0.959420</td>\n",
              "      <td>0.962457</td>\n",
              "      <td>0.900958</td>\n",
              "    </tr>\n",
              "    <tr>\n",
              "      <th>6</th>\n",
              "      <td>6.00001</td>\n",
              "      <td>0.987186</td>\n",
              "      <td>0.964251</td>\n",
              "      <td>0.982935</td>\n",
              "      <td>0.900000</td>\n",
              "    </tr>\n",
              "    <tr>\n",
              "      <th>7</th>\n",
              "      <td>7.00001</td>\n",
              "      <td>0.987427</td>\n",
              "      <td>0.961353</td>\n",
              "      <td>0.979522</td>\n",
              "      <td>0.894081</td>\n",
              "    </tr>\n",
              "    <tr>\n",
              "      <th>8</th>\n",
              "      <td>8.00001</td>\n",
              "      <td>0.988878</td>\n",
              "      <td>0.962319</td>\n",
              "      <td>0.979522</td>\n",
              "      <td>0.896875</td>\n",
              "    </tr>\n",
              "    <tr>\n",
              "      <th>9</th>\n",
              "      <td>9.00001</td>\n",
              "      <td>0.989845</td>\n",
              "      <td>0.965217</td>\n",
              "      <td>0.982935</td>\n",
              "      <td>0.902821</td>\n",
              "    </tr>\n",
              "  </tbody>\n",
              "</table>\n",
              "</div>"
            ],
            "text/plain": [
              "         C  Train Accuracy  Test Accuracy  Test Recall  Test Precision\n",
              "0  0.00001        0.708414       0.716908     0.000000        0.000000\n",
              "1  1.00001        0.976064       0.955556     0.962457        0.889590\n",
              "2  2.00001        0.978482       0.954589     0.965870        0.884375\n",
              "3  3.00001        0.981383       0.957488     0.965870        0.892744\n",
              "4  4.00001        0.984043       0.958454     0.965870        0.895570\n",
              "5  5.00001        0.985493       0.959420     0.962457        0.900958\n",
              "6  6.00001        0.987186       0.964251     0.982935        0.900000\n",
              "7  7.00001        0.987427       0.961353     0.979522        0.894081\n",
              "8  8.00001        0.988878       0.962319     0.979522        0.896875\n",
              "9  9.00001        0.989845       0.965217     0.982935        0.902821"
            ]
          },
          "metadata": {
            "tags": []
          },
          "execution_count": 122
        }
      ]
    },
    {
      "cell_type": "code",
      "metadata": {
        "colab": {
          "base_uri": "https://localhost:8080/"
        },
        "id": "tQz4JMQIsbp4",
        "outputId": "b36b1088-2d99-409b-9312-f72decc625c8"
      },
      "source": [
        "best_index = models['Test Precision'].idxmax()\r\n",
        "models.iloc[best_index, :]"
      ],
      "execution_count": 123,
      "outputs": [
        {
          "output_type": "execute_result",
          "data": {
            "text/plain": [
              "C                 19.000010\n",
              "Train Accuracy     0.993472\n",
              "Test Accuracy      0.966184\n",
              "Test Recall        0.972696\n",
              "Test Precision     0.913462\n",
              "Name: 19, dtype: float64"
            ]
          },
          "metadata": {
            "tags": []
          },
          "execution_count": 123
        }
      ]
    },
    {
      "cell_type": "code",
      "metadata": {
        "colab": {
          "base_uri": "https://localhost:8080/",
          "height": 105
        },
        "id": "QplXTUgKsv3_",
        "outputId": "6c601ee5-3ac6-4f30-83c3-065bce662775"
      },
      "source": [
        "m_confusion_test = metrics.confusion_matrix(y_test, svc.predict(X_test))\r\n",
        "pd.DataFrame(data = m_confusion_test, columns = ['Predicted Ham', 'Predicted Spam'],\r\n",
        "            index = ['Actual Ham', 'Actual Spam'])"
      ],
      "execution_count": 124,
      "outputs": [
        {
          "output_type": "execute_result",
          "data": {
            "text/html": [
              "<div>\n",
              "<style scoped>\n",
              "    .dataframe tbody tr th:only-of-type {\n",
              "        vertical-align: middle;\n",
              "    }\n",
              "\n",
              "    .dataframe tbody tr th {\n",
              "        vertical-align: top;\n",
              "    }\n",
              "\n",
              "    .dataframe thead th {\n",
              "        text-align: right;\n",
              "    }\n",
              "</style>\n",
              "<table border=\"1\" class=\"dataframe\">\n",
              "  <thead>\n",
              "    <tr style=\"text-align: right;\">\n",
              "      <th></th>\n",
              "      <th>Predicted Ham</th>\n",
              "      <th>Predicted Spam</th>\n",
              "    </tr>\n",
              "  </thead>\n",
              "  <tbody>\n",
              "    <tr>\n",
              "      <th>Actual Ham</th>\n",
              "      <td>715</td>\n",
              "      <td>27</td>\n",
              "    </tr>\n",
              "    <tr>\n",
              "      <th>Actual Spam</th>\n",
              "      <td>8</td>\n",
              "      <td>285</td>\n",
              "    </tr>\n",
              "  </tbody>\n",
              "</table>\n",
              "</div>"
            ],
            "text/plain": [
              "             Predicted Ham  Predicted Spam\n",
              "Actual Ham             715              27\n",
              "Actual Spam              8             285"
            ]
          },
          "metadata": {
            "tags": []
          },
          "execution_count": 124
        }
      ]
    },
    {
      "cell_type": "code",
      "metadata": {
        "colab": {
          "base_uri": "https://localhost:8080/"
        },
        "id": "uldRiRTwsg6x",
        "outputId": "fe53caee-c33e-452c-ee27-17aa92493cd9"
      },
      "source": [
        "from sklearn.metrics import classification_report\r\n",
        "print(classification_report(y_test,svc.predict(X_test)))"
      ],
      "execution_count": 125,
      "outputs": [
        {
          "output_type": "stream",
          "text": [
            "              precision    recall  f1-score   support\n",
            "\n",
            "           0       0.99      0.96      0.98       742\n",
            "           1       0.91      0.97      0.94       293\n",
            "\n",
            "    accuracy                           0.97      1035\n",
            "   macro avg       0.95      0.97      0.96      1035\n",
            "weighted avg       0.97      0.97      0.97      1035\n",
            "\n"
          ],
          "name": "stdout"
        }
      ]
    },
    {
      "cell_type": "code",
      "metadata": {
        "colab": {
          "base_uri": "https://localhost:8080/"
        },
        "id": "W1VWXPJJKEAO",
        "outputId": "0e20a973-4fc4-4962-bfa0-4e9e5ff28046"
      },
      "source": [
        "from sklearn.metrics import accuracy_score\r\n",
        "Y_predSVM = svc.predict(X_test)\r\n",
        "acc_valSVM = accuracy_score(y_test,Y_predSVM)\r\n",
        "re_valSVN = recall_score(y_test,Y_predSVM)\r\n",
        "pre_valSVM = precision_score(y_test,Y_predSVM)\r\n",
        "f1_valSVM = f1_score(y_test,Y_predSVM)\r\n",
        "predSVM = acc_valSVM*100\r\n",
        "print(\"Accuracy score SVM: %.0f\" %predSVM, \"%\")"
      ],
      "execution_count": 126,
      "outputs": [
        {
          "output_type": "stream",
          "text": [
            "Accuracy score SVM: 97 %\n"
          ],
          "name": "stdout"
        }
      ]
    },
    {
      "cell_type": "markdown",
      "metadata": {
        "id": "-aQAmxYgOgkb"
      },
      "source": [
        "*RECURRENT NEURAL NETWORK*"
      ]
    },
    {
      "cell_type": "code",
      "metadata": {
        "id": "OCwC67CZOkwU"
      },
      "source": [
        "%tensorflow_version 2.x\r\n",
        "import tensorflow as tf\r\n",
        "import numpy as np\r\n",
        "np.random.seed(7)\r\n",
        "import pandas as pd\r\n"
      ],
      "execution_count": 127,
      "outputs": []
    },
    {
      "cell_type": "code",
      "metadata": {
        "colab": {
          "base_uri": "https://localhost:8080/"
        },
        "id": "V3J0MlKPO1YJ",
        "outputId": "3f16e089-399c-47c1-b4dd-7a092db74471"
      },
      "source": [
        "len(data['final_text'])"
      ],
      "execution_count": 128,
      "outputs": [
        {
          "output_type": "execute_result",
          "data": {
            "text/plain": [
              "5171"
            ]
          },
          "metadata": {
            "tags": []
          },
          "execution_count": 128
        }
      ]
    },
    {
      "cell_type": "code",
      "metadata": {
        "colab": {
          "base_uri": "https://localhost:8080/",
          "height": 353
        },
        "id": "dafn3dz_Ri1S",
        "outputId": "425155df-1e8d-45c4-b292-da3ec9ec4837"
      },
      "source": [
        "data.head()"
      ],
      "execution_count": 129,
      "outputs": [
        {
          "output_type": "execute_result",
          "data": {
            "text/html": [
              "<div>\n",
              "<style scoped>\n",
              "    .dataframe tbody tr th:only-of-type {\n",
              "        vertical-align: middle;\n",
              "    }\n",
              "\n",
              "    .dataframe tbody tr th {\n",
              "        vertical-align: top;\n",
              "    }\n",
              "\n",
              "    .dataframe thead th {\n",
              "        text-align: right;\n",
              "    }\n",
              "</style>\n",
              "<table border=\"1\" class=\"dataframe\">\n",
              "  <thead>\n",
              "    <tr style=\"text-align: right;\">\n",
              "      <th></th>\n",
              "      <th>label</th>\n",
              "      <th>text</th>\n",
              "      <th>remove_punc</th>\n",
              "      <th>tokenized_text</th>\n",
              "      <th>stopwords_cleaning</th>\n",
              "      <th>bannedword_cleaning</th>\n",
              "      <th>stemmed_text</th>\n",
              "      <th>final_text</th>\n",
              "    </tr>\n",
              "  </thead>\n",
              "  <tbody>\n",
              "    <tr>\n",
              "      <th>0</th>\n",
              "      <td>0</td>\n",
              "      <td>Subject: enron methanol ; meter # : 988291\\r\\n...</td>\n",
              "      <td>Subject enron methanol  meter   988291\\r\\nthis...</td>\n",
              "      <td>[subject, enron, methanol, meter, 988291, this...</td>\n",
              "      <td>[subject, enron, methanol, meter, 988291, foll...</td>\n",
              "      <td>[enron, methanol, meter, 988291, follow, note,...</td>\n",
              "      <td>[enron, methanol, meter, 988291, follow, note,...</td>\n",
              "      <td>enron methanol meter 988291 follow note gave m...</td>\n",
              "    </tr>\n",
              "    <tr>\n",
              "      <th>1</th>\n",
              "      <td>0</td>\n",
              "      <td>Subject: hpl nom for january 9 , 2001\\r\\n( see...</td>\n",
              "      <td>Subject hpl nom for january 9  2001\\r\\n see at...</td>\n",
              "      <td>[subject, hpl, nom, for, january, 9, 2001, see...</td>\n",
              "      <td>[subject, hpl, nom, january, 9, 2001, see, att...</td>\n",
              "      <td>[hpl, nom, january, 9, 2001, see, attached, fi...</td>\n",
              "      <td>[hpl, nom, januari, 9, 2001, see, attach, file...</td>\n",
              "      <td>hpl nom januari 9 2001 see attach file hplnol ...</td>\n",
              "    </tr>\n",
              "    <tr>\n",
              "      <th>2</th>\n",
              "      <td>0</td>\n",
              "      <td>Subject: neon retreat\\r\\nho ho ho , we ' re ar...</td>\n",
              "      <td>Subject neon retreat\\r\\nho ho ho  we  re aroun...</td>\n",
              "      <td>[subject, neon, retreat, ho, ho, ho, we, re, a...</td>\n",
              "      <td>[subject, neon, retreat, ho, ho, ho, around, w...</td>\n",
              "      <td>[neon, retreat, ho, ho, ho, around, wonderful,...</td>\n",
              "      <td>[neon, retreat, ho, ho, ho, around, wonder, ti...</td>\n",
              "      <td>neon retreat ho ho ho around wonder time year ...</td>\n",
              "    </tr>\n",
              "    <tr>\n",
              "      <th>3</th>\n",
              "      <td>1</td>\n",
              "      <td>Subject: photoshop , windows , office . cheap ...</td>\n",
              "      <td>Subject photoshop  windows  office  cheap  mai...</td>\n",
              "      <td>[subject, photoshop, windows, office, cheap, m...</td>\n",
              "      <td>[subject, photoshop, windows, office, cheap, m...</td>\n",
              "      <td>[photoshop, windows, office, cheap, main, tren...</td>\n",
              "      <td>[photoshop, window, offic, cheap, main, trend,...</td>\n",
              "      <td>photoshop window offic cheap main trend abas d...</td>\n",
              "    </tr>\n",
              "    <tr>\n",
              "      <th>4</th>\n",
              "      <td>0</td>\n",
              "      <td>Subject: re : indian springs\\r\\nthis deal is t...</td>\n",
              "      <td>Subject re  indian springs\\r\\nthis deal is to ...</td>\n",
              "      <td>[subject, re, indian, springs, this, deal, is,...</td>\n",
              "      <td>[subject, indian, springs, deal, book, teco, p...</td>\n",
              "      <td>[indian, springs, deal, book, teco, pvr, reven...</td>\n",
              "      <td>[indian, spring, deal, book, teco, pvr, revenu...</td>\n",
              "      <td>indian spring deal book teco pvr revenu unders...</td>\n",
              "    </tr>\n",
              "  </tbody>\n",
              "</table>\n",
              "</div>"
            ],
            "text/plain": [
              "   label  ...                                         final_text\n",
              "0      0  ...  enron methanol meter 988291 follow note gave m...\n",
              "1      0  ...  hpl nom januari 9 2001 see attach file hplnol ...\n",
              "2      0  ...  neon retreat ho ho ho around wonder time year ...\n",
              "3      1  ...  photoshop window offic cheap main trend abas d...\n",
              "4      0  ...  indian spring deal book teco pvr revenu unders...\n",
              "\n",
              "[5 rows x 8 columns]"
            ]
          },
          "metadata": {
            "tags": []
          },
          "execution_count": 129
        }
      ]
    },
    {
      "cell_type": "code",
      "metadata": {
        "colab": {
          "base_uri": "https://localhost:8080/"
        },
        "id": "tgEEk5bRTy1M",
        "outputId": "b8fd4a0f-6b18-4466-85a6-2b1aed1c55cd"
      },
      "source": [
        "len(data['final_text'])"
      ],
      "execution_count": 130,
      "outputs": [
        {
          "output_type": "execute_result",
          "data": {
            "text/plain": [
              "5171"
            ]
          },
          "metadata": {
            "tags": []
          },
          "execution_count": 130
        }
      ]
    },
    {
      "cell_type": "code",
      "metadata": {
        "colab": {
          "base_uri": "https://localhost:8080/"
        },
        "id": "cEoX1kIDRkeb",
        "outputId": "c6d1a100-6d33-426f-e45b-37fe620319d9"
      },
      "source": [
        "data['final_text'].head()"
      ],
      "execution_count": 131,
      "outputs": [
        {
          "output_type": "execute_result",
          "data": {
            "text/plain": [
              "0    enron methanol meter 988291 follow note gave m...\n",
              "1    hpl nom januari 9 2001 see attach file hplnol ...\n",
              "2    neon retreat ho ho ho around wonder time year ...\n",
              "3    photoshop window offic cheap main trend abas d...\n",
              "4    indian spring deal book teco pvr revenu unders...\n",
              "Name: final_text, dtype: object"
            ]
          },
          "metadata": {
            "tags": []
          },
          "execution_count": 131
        }
      ]
    },
    {
      "cell_type": "code",
      "metadata": {
        "colab": {
          "base_uri": "https://localhost:8080/"
        },
        "id": "uz6oe1fzRszX",
        "outputId": "a4e44fb8-9ce2-41b5-8a99-8e256e37eef0"
      },
      "source": [
        "data['label'].unique()"
      ],
      "execution_count": 132,
      "outputs": [
        {
          "output_type": "execute_result",
          "data": {
            "text/plain": [
              "array([0, 1])"
            ]
          },
          "metadata": {
            "tags": []
          },
          "execution_count": 132
        }
      ]
    },
    {
      "cell_type": "code",
      "metadata": {
        "id": "hw4Cd3WpRyDR"
      },
      "source": [
        "from tensorflow.keras.preprocessing.text import Tokenizer\r\n",
        "from tensorflow.keras.preprocessing.sequence import pad_sequences\r\n",
        "\r\n",
        "max_words = 500\r\n",
        "\r\n",
        "tokenizer = Tokenizer(num_words=max_words, split=' ')\r\n",
        "tokenizer.fit_on_texts(data['final_text'].values)\r\n",
        "X = tokenizer.texts_to_sequences(data['final_text'].values)\r\n",
        "X = pad_sequences(X, maxlen=max_words);"
      ],
      "execution_count": 133,
      "outputs": []
    },
    {
      "cell_type": "code",
      "metadata": {
        "colab": {
          "base_uri": "https://localhost:8080/"
        },
        "id": "RwS7kBlYFFhJ",
        "outputId": "cc383535-af32-4bd5-8419-6ddda8a47c9d"
      },
      "source": [
        "from sklearn.model_selection import train_test_split\r\n",
        "\r\n",
        "Y = pd.get_dummies(data['label']).values\r\n",
        "X_train, X_test, Y_train, Y_test = train_test_split(X,Y, test_size = 0.2, random_state = 42)\r\n",
        "print('input_train shape:', X_train.shape)\r\n",
        "print('input_test shape:', X_test.shape)"
      ],
      "execution_count": 134,
      "outputs": [
        {
          "output_type": "stream",
          "text": [
            "input_train shape: (4136, 500)\n",
            "input_test shape: (1035, 500)\n"
          ],
          "name": "stdout"
        }
      ]
    },
    {
      "cell_type": "code",
      "metadata": {
        "colab": {
          "base_uri": "https://localhost:8080/"
        },
        "id": "dfZ2GIYkDDju",
        "outputId": "0184f812-a3bb-4d3a-8657-e65a041c96a1"
      },
      "source": [
        "from tensorflow.keras.models import Sequential\r\n",
        "from tensorflow.keras.layers import Embedding, SimpleRNN, LSTM, GRU, Dense\r\n",
        "import matplotlib.pyplot as plt\r\n",
        "\r\n",
        "model_RNN = Sequential()\r\n",
        "model_RNN.add(Embedding(10000, 32))\r\n",
        "model_RNN.add(SimpleRNN(32))\r\n",
        "model_RNN.add(Dense(2, activation='sigmoid'))\r\n",
        "model_RNN.compile(optimizer='adam', loss='binary_crossentropy', metrics=['acc'])\r\n",
        "history_RNN = model_RNN.fit(X_train, Y_train,\r\n",
        "                    epochs=5,\r\n",
        "                    batch_size=512, #sekali proses jln 512\r\n",
        "                    verbose=1,\r\n",
        "                    validation_split=0.2,\r\n",
        "                    validation_data=(X_test, Y_test))"
      ],
      "execution_count": 135,
      "outputs": [
        {
          "output_type": "stream",
          "text": [
            "Epoch 1/5\n",
            "7/7 [==============================] - 4s 360ms/step - loss: 0.6767 - acc: 0.6123 - val_loss: 0.6259 - val_acc: 0.7101\n",
            "Epoch 2/5\n",
            "7/7 [==============================] - 2s 318ms/step - loss: 0.6086 - acc: 0.7199 - val_loss: 0.5627 - val_acc: 0.7802\n",
            "Epoch 3/5\n",
            "7/7 [==============================] - 2s 321ms/step - loss: 0.5498 - acc: 0.7718 - val_loss: 0.5985 - val_acc: 0.6171\n",
            "Epoch 4/5\n",
            "7/7 [==============================] - 2s 322ms/step - loss: 0.6112 - acc: 0.5848 - val_loss: 0.5824 - val_acc: 0.6280\n",
            "Epoch 5/5\n",
            "7/7 [==============================] - 2s 320ms/step - loss: 0.5545 - acc: 0.6840 - val_loss: 0.4821 - val_acc: 0.8297\n"
          ],
          "name": "stdout"
        }
      ]
    },
    {
      "cell_type": "code",
      "metadata": {
        "colab": {
          "base_uri": "https://localhost:8080/"
        },
        "id": "BGOc4S0xJlXl",
        "outputId": "a98b3fa2-b88c-4c43-b76c-158b81c041f4"
      },
      "source": [
        "loss_RNN, acc_RNN = model_RNN.evaluate(X_test, Y_test, verbose=1)\r\n",
        "print(\"Accuracy: %.2f\" % (acc_RNN*100), \"%\")\r\n",
        "print(\"Loss: %.2f\" % (loss_RNN*100), \"%\")"
      ],
      "execution_count": 136,
      "outputs": [
        {
          "output_type": "stream",
          "text": [
            "33/33 [==============================] - 1s 24ms/step - loss: 0.4833 - acc: 0.8338\n",
            "Accuracy: 83.38 %\n",
            "Loss: 48.33 %\n"
          ],
          "name": "stdout"
        }
      ]
    },
    {
      "cell_type": "code",
      "metadata": {
        "colab": {
          "base_uri": "https://localhost:8080/",
          "height": 105
        },
        "id": "mTRIKoISwA_q",
        "outputId": "026e88f0-0a72-40ad-f067-203499876f91"
      },
      "source": [
        "from sklearn.metrics import confusion_matrix\r\n",
        "Y_pred = model_RNN.predict(X_test)\r\n",
        "m_confusion_test = metrics.confusion_matrix(Y_test.argmax(axis=1),Y_pred.argmax(axis=1))\r\n",
        "pd.DataFrame(data = m_confusion_test, columns = ['Predicted Ham', 'Predicted Spam'],\r\n",
        "            index = ['Actual Ham', 'Actual Spam'])"
      ],
      "execution_count": 137,
      "outputs": [
        {
          "output_type": "execute_result",
          "data": {
            "text/html": [
              "<div>\n",
              "<style scoped>\n",
              "    .dataframe tbody tr th:only-of-type {\n",
              "        vertical-align: middle;\n",
              "    }\n",
              "\n",
              "    .dataframe tbody tr th {\n",
              "        vertical-align: top;\n",
              "    }\n",
              "\n",
              "    .dataframe thead th {\n",
              "        text-align: right;\n",
              "    }\n",
              "</style>\n",
              "<table border=\"1\" class=\"dataframe\">\n",
              "  <thead>\n",
              "    <tr style=\"text-align: right;\">\n",
              "      <th></th>\n",
              "      <th>Predicted Ham</th>\n",
              "      <th>Predicted Spam</th>\n",
              "    </tr>\n",
              "  </thead>\n",
              "  <tbody>\n",
              "    <tr>\n",
              "      <th>Actual Ham</th>\n",
              "      <td>598</td>\n",
              "      <td>144</td>\n",
              "    </tr>\n",
              "    <tr>\n",
              "      <th>Actual Spam</th>\n",
              "      <td>28</td>\n",
              "      <td>265</td>\n",
              "    </tr>\n",
              "  </tbody>\n",
              "</table>\n",
              "</div>"
            ],
            "text/plain": [
              "             Predicted Ham  Predicted Spam\n",
              "Actual Ham             598             144\n",
              "Actual Spam             28             265"
            ]
          },
          "metadata": {
            "tags": []
          },
          "execution_count": 137
        }
      ]
    },
    {
      "cell_type": "code",
      "metadata": {
        "colab": {
          "base_uri": "https://localhost:8080/"
        },
        "id": "emvhbSPJJp72",
        "outputId": "d2522eaa-7be3-4361-84b3-f43d0a40e1b3"
      },
      "source": [
        "from sklearn.metrics import classification_report\r\n",
        "Y_pred = model_RNN.predict(X_test)\r\n",
        "print(classification_report(Y_test.argmax(axis=1),Y_pred.argmax(axis=1)))"
      ],
      "execution_count": 138,
      "outputs": [
        {
          "output_type": "stream",
          "text": [
            "              precision    recall  f1-score   support\n",
            "\n",
            "           0       0.96      0.81      0.87       742\n",
            "           1       0.65      0.90      0.75       293\n",
            "\n",
            "    accuracy                           0.83      1035\n",
            "   macro avg       0.80      0.86      0.81      1035\n",
            "weighted avg       0.87      0.83      0.84      1035\n",
            "\n"
          ],
          "name": "stdout"
        }
      ]
    },
    {
      "cell_type": "code",
      "metadata": {
        "colab": {
          "base_uri": "https://localhost:8080/"
        },
        "id": "OkLdliW_JuC5",
        "outputId": "493bb7ff-5fbc-4427-8eb6-c4d3fdfcd1b4"
      },
      "source": [
        "from sklearn.metrics import accuracy_score, recall_score, precision_score, f1_score\r\n",
        "Y_predRNN = model_RNN.predict(X_test)\r\n",
        "acc_valRNN = accuracy_score(Y_test.argmax(axis=1),Y_predRNN.argmax(axis=1))\r\n",
        "re_valRNN = recall_score(Y_test.argmax(axis=1),Y_predRNN.argmax(axis=1))\r\n",
        "pre_valRNN = precision_score(Y_test.argmax(axis=1),Y_predRNN.argmax(axis=1))\r\n",
        "f1_valRNN = f1_score(Y_test.argmax(axis=1),Y_predRNN.argmax(axis=1))\r\n",
        "predRNN = (acc_valRNN*100)\r\n",
        "print(\"Accuracy score RNN: %.0f\" %predRNN, \"%\")\r\n"
      ],
      "execution_count": 139,
      "outputs": [
        {
          "output_type": "stream",
          "text": [
            "Accuracy score RNN: 83 %\n"
          ],
          "name": "stdout"
        }
      ]
    },
    {
      "cell_type": "code",
      "metadata": {
        "colab": {
          "base_uri": "https://localhost:8080/",
          "height": 133
        },
        "id": "uUVKj14SJyUa",
        "outputId": "6dcad615-e27e-44f6-ef7d-dba1df4e2367"
      },
      "source": [
        "import pandas as pd\r\n",
        "\r\n",
        "daftarAccurancy = pd.DataFrame({'Number':[1,2,3],\r\n",
        "                                'Algorithm':['MNBC','SVM','RNN'],\r\n",
        "                                'Accurancy':[predMNBC,predSVM,predRNN],\r\n",
        "                                'Recall' : [re_valMNBC,re_valSVN,re_valRNN],\r\n",
        "                                'Precision' : [pre_valMNBC,pre_valSVM,pre_valRNN],\r\n",
        "                                'F1-Score' : [f1_valMNBC,f1_valSVM,f1_valRNN],\r\n",
        "                                'Accurancy in %':['%.0f%%' %predMNBC,'%.0f%%' %predSVM,'%.0f%%' %predRNN]})\r\n",
        "daftarAccurancy"
      ],
      "execution_count": 140,
      "outputs": [
        {
          "output_type": "execute_result",
          "data": {
            "text/html": [
              "<div>\n",
              "<style scoped>\n",
              "    .dataframe tbody tr th:only-of-type {\n",
              "        vertical-align: middle;\n",
              "    }\n",
              "\n",
              "    .dataframe tbody tr th {\n",
              "        vertical-align: top;\n",
              "    }\n",
              "\n",
              "    .dataframe thead th {\n",
              "        text-align: right;\n",
              "    }\n",
              "</style>\n",
              "<table border=\"1\" class=\"dataframe\">\n",
              "  <thead>\n",
              "    <tr style=\"text-align: right;\">\n",
              "      <th></th>\n",
              "      <th>Number</th>\n",
              "      <th>Algorithm</th>\n",
              "      <th>Accurancy</th>\n",
              "      <th>Recall</th>\n",
              "      <th>Precision</th>\n",
              "      <th>F1-Score</th>\n",
              "      <th>Accurancy in %</th>\n",
              "    </tr>\n",
              "  </thead>\n",
              "  <tbody>\n",
              "    <tr>\n",
              "      <th>0</th>\n",
              "      <td>1</td>\n",
              "      <td>MNBC</td>\n",
              "      <td>92.753623</td>\n",
              "      <td>0.747440</td>\n",
              "      <td>0.995455</td>\n",
              "      <td>0.853801</td>\n",
              "      <td>93%</td>\n",
              "    </tr>\n",
              "    <tr>\n",
              "      <th>1</th>\n",
              "      <td>2</td>\n",
              "      <td>SVM</td>\n",
              "      <td>96.618357</td>\n",
              "      <td>0.972696</td>\n",
              "      <td>0.913462</td>\n",
              "      <td>0.942149</td>\n",
              "      <td>97%</td>\n",
              "    </tr>\n",
              "    <tr>\n",
              "      <th>2</th>\n",
              "      <td>3</td>\n",
              "      <td>RNN</td>\n",
              "      <td>83.381643</td>\n",
              "      <td>0.904437</td>\n",
              "      <td>0.647922</td>\n",
              "      <td>0.754986</td>\n",
              "      <td>83%</td>\n",
              "    </tr>\n",
              "  </tbody>\n",
              "</table>\n",
              "</div>"
            ],
            "text/plain": [
              "   Number Algorithm  Accurancy    Recall  Precision  F1-Score Accurancy in %\n",
              "0       1      MNBC  92.753623  0.747440   0.995455  0.853801            93%\n",
              "1       2       SVM  96.618357  0.972696   0.913462  0.942149            97%\n",
              "2       3       RNN  83.381643  0.904437   0.647922  0.754986            83%"
            ]
          },
          "metadata": {
            "tags": []
          },
          "execution_count": 140
        }
      ]
    },
    {
      "cell_type": "code",
      "metadata": {
        "colab": {
          "base_uri": "https://localhost:8080/",
          "height": 281
        },
        "id": "zMzZAD0iTAhk",
        "outputId": "4dabc9f9-2cad-4830-c219-0a0e4f783d4e"
      },
      "source": [
        "daftarAccurancy.plot.barh(x='Algorithm',y='Accurancy', color= [\"blue\", \"orange\", \"green\"], title='Each Algorithm Accurancy - Bar Chart Vers')\r\n",
        "plt.show()"
      ],
      "execution_count": 141,
      "outputs": [
        {
          "output_type": "display_data",
          "data": {
            "image/png": "[encoded data removed]",
            "text/plain": [
              "<Figure size 432x288 with 1 Axes>"
            ]
          },
          "metadata": {
            "tags": [],
            "needs_background": "light"
          }
        }
      ]
    },
    {
      "cell_type": "code",
      "metadata": {
        "colab": {
          "base_uri": "https://localhost:8080/",
          "height": 295
        },
        "id": "WI5qGnhnvlyH",
        "outputId": "126d78d4-b0b5-4f8a-8583-5ff88979b947"
      },
      "source": [
        "df = pd.DataFrame({'Algorithm':['MNBC', 'SVM', 'RNN'], 'Accuracy':[predMNBC, predSVM, predRNN], 'Acc':[predMNBC, predSVM, predRNN]})\r\n",
        "ax = df.plot.bar(x='Algorithm', y='Accuracy', ylabel='Accuracy', rot=0, color= [\"blue\", \"red\", \"green\"], title='Each Algorithm Accurancy - Bar Chart Vers')"
      ],
      "execution_count": 142,
      "outputs": [
        {
          "output_type": "display_data",
          "data": {
            "image/png": "[encoded data removed]",
            "text/plain": [
              "<Figure size 432x288 with 1 Axes>"
            ]
          },
          "metadata": {
            "tags": [],
            "needs_background": "light"
          }
        }
      ]
    }
  ]
}